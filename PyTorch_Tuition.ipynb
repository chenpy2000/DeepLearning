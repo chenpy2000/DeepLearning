{
 "cells": [
  {
   "cell_type": "markdown",
   "metadata": {},
   "source": [
    "# PyTorch Learning Notes"
   ]
  },
  {
   "cell_type": "markdown",
   "metadata": {},
   "source": [
    "# Index\n",
    "\n",
    "- [1. PyTorch](#1.-PyTorch)\n",
    "- [2. Tensor](#2.-Tensor)\n",
    "    - [2.1 Tensor Create](#2.1-Tensor-Create)\n",
    "    - [2.2 Tensor Attributes](#2.2-Tensor-Attributes)\n",
    "    - [2.3 Tensor Operations](#2.3-Tensor-Operations)\n",
    "- [3. Neural Network](#3.-Neural-Network)\n",
    "    - [3.1 Example: First Neural Network](#3.1-Example:-First-Neural-Network)\n",
    "    - [3.2 Linear Layer](#3.2-Linear-Layer)\n",
    "         - [3.2.1 Linear Layer Attribute](#3.2.1-Linear-Layer-Attribute)\n",
    "         - [3.2.2 Linear Layer Mechanics](#3.2.2-Linear-Layer-Mechanics)\n",
    "         - [3.2.3 Multiple Linear Layers](#3.2.3-Multiple-Linear-Layers)\n",
    "    - [3.3 Activation Functions](#3.3-Activation-Functions)\n",
    "         - [3.3.1 Sigmoid](#3.3.1-Sigmoid)\n",
    "         - [3.3.2 Softmax](#3.3.2-Softmax)\n",
    "         - [3.3.3 ReLU](#3.3.3-ReLU)\n",
    "         - [3.3.4 Leaky ReLU](#3.3.4-Leaky-ReLU)\n",
    "    - [3.4 Forward Pass](#3.4-Forward-Pass)\n",
    "    - [3.5 Loss Functions](#3.5-Loss-Functions)\n",
    "         - [3.5.1 One-hot Encoding](#3.5.1-One-hot-Encoding)\n",
    "         - [3.5.2 Cross Entropy Loss](#3.5.2-Cross-Entropy-Loss)\n",
    "         - [3.5.3 Mean Squared Error Loss](#3.5.3-Mean-Squared-Error-Loss)\n",
    "    - [3.6 Backpropagation](#3.6-Backpropagation)\n",
    "    - [3.7 Optimizer](#3.7-Optimizer)\n",
    "         - [3.7.1 SGD Optimizer](#3.7.1-SGD-Optimizer)\n",
    "    - [3.8 Counting Parameters](#3.8-Counting-Parameters)\n",
    "    - [3.9 Layer Initialization](#3.9-Layer-Initialization)\n",
    "- [4. PyTorch Framework](#4.-PyTorch-Framework)\n",
    "    - [4.1 Dataset and DataLoader](#4.1-Dataset-and-DataLoader)\n",
    "         - [4.1.1 From pandas](#4.1.1-From-pandas)\n",
    "         - [4.1.2 TensorDataset and DataLoader](#4.1.2-TensorDataset-and-DataLoader)\n",
    "    - [4.2 Training Loop](#4.2-Training-Loop)\n",
    "    - [4.3 Fine Tuning](#4.3-Fine-Tuning)\n",
    "    - [4.4 Model Summary](#4.4-Model-Summary)\n",
    "    - [4.5 Summarizing Training Loss](#4.5-Summarizing-Training-Loss)\n",
    "    - [4.6 Torchmetrics](#4.6-Torchmetrics)\n",
    "    - [4.7 Overfitting](#4.7-Overfitting)\n",
    "         - [4.7.1 Dropout](#4.7.1-Dropout)\n",
    "         - [4.7.2 Weight Decay](#4.7.2-Weight-Decay)\n",
    "         - [4.7.3 Data Augmentation](#4.7.3-Data-Augmentation)\n",
    "    - [4.8 General Recipe for training](#4.8-General-Recipe-for-training)\n",
    "    - [4.9 Initialization](#4.9-Initialization)\n",
    "    - [4.10 Normalization](#4.10-Normalization)\n",
    "- [5. Objected Oriented Programming](#5.-Objected-Oriented-Programming)\n",
    "    - [5.1 Dataset](#5.1-Dataset)\n",
    "    - [5.2 Model](#5.2-Model)\n",
    "- [Conclusion](#Conclusion)\n",
    "- [References](#References)"
   ]
  },
  {
   "cell_type": "markdown",
   "metadata": {},
   "source": [
    "[Back to top](#Index)\n",
    "\n",
    "\n",
    "## 1. PyTorch\n",
    "\n",
    "Use command <b> import torch </b> to load the PyTorch library. \n",
    "There are other supportives, such as: <br/>\n",
    "<b>torchvision</b> for image data <br/>\n",
    "<b>torchaudio</b> for audio data <br/>\n",
    "<b>torchtext</b> for text data <br/>"
   ]
  },
  {
   "cell_type": "code",
   "execution_count": 28,
   "metadata": {},
   "outputs": [],
   "source": [
    "import torch"
   ]
  },
  {
   "cell_type": "markdown",
   "metadata": {},
   "source": [
    "[Back to top](#Index)\n",
    "\n",
    "## 2. Tensor"
   ]
  },
  {
   "cell_type": "markdown",
   "metadata": {},
   "source": [
    "[Back to top](#Index)\n",
    "\n",
    "### 2.1 Tensor Create\n",
    "\n",
    "<b>Tensor</b> is the building block of networks in PyTorch. There are several ways to load a tensor: <br/>\n",
    "1, Load from List</br>\n",
    "2, Load from numpy"
   ]
  },
  {
   "cell_type": "code",
   "execution_count": 2,
   "metadata": {},
   "outputs": [],
   "source": [
    "import torch\n",
    "import numpy as np\n",
    "\n",
    "# Load from List:\n",
    "lst = [[1, 2, 3], [4, 5, 6]]\n",
    "tensor = torch.tensor(lst)\n",
    "\n",
    "# Load from NumPy:\n",
    "array = [2, 3, 5, 8, 0]\n",
    "np_array = np.array(array)\n",
    "tensor = torch.from_numpy(np_array)"
   ]
  },
  {
   "cell_type": "markdown",
   "metadata": {},
   "source": [
    "[Back to top](#Index)\n",
    "\n",
    "### 2.2 Tensor Attributes\n",
    "1, tensor -> shape    <br/>\n",
    "2, tensor -> dtpye    <br/>\n",
    "3, tensor -> device   <br/>"
   ]
  },
  {
   "cell_type": "code",
   "execution_count": 16,
   "metadata": {},
   "outputs": [],
   "source": [
    "import torch\n",
    "import numpy as np\n",
    "\n",
    "# Initialize tensor\n",
    "lst = [[1, 2, 3], [4, 5, 6]]\n",
    "tensor = torch.tensor(lst)"
   ]
  },
  {
   "cell_type": "code",
   "execution_count": 17,
   "metadata": {},
   "outputs": [
    {
     "data": {
      "text/plain": [
       "torch.Size([2, 3])"
      ]
     },
     "execution_count": 17,
     "metadata": {},
     "output_type": "execute_result"
    }
   ],
   "source": [
    "tensor.shape"
   ]
  },
  {
   "cell_type": "code",
   "execution_count": 18,
   "metadata": {},
   "outputs": [
    {
     "data": {
      "text/plain": [
       "torch.int64"
      ]
     },
     "execution_count": 18,
     "metadata": {},
     "output_type": "execute_result"
    }
   ],
   "source": [
    "tensor.dtype"
   ]
  },
  {
   "cell_type": "code",
   "execution_count": 19,
   "metadata": {},
   "outputs": [
    {
     "data": {
      "text/plain": [
       "device(type='cpu')"
      ]
     },
     "execution_count": 19,
     "metadata": {},
     "output_type": "execute_result"
    }
   ],
   "source": [
    "tensor.device"
   ]
  },
  {
   "cell_type": "markdown",
   "metadata": {},
   "source": [
    "[Back to top](#Index)\n",
    "\n",
    "### 2.3 Tensor Operations\n",
    "1, Addition / Subtraction (Tensors must be of same shape!) <br/>\n",
    "2, Elementwise Multiplication"
   ]
  },
  {
   "cell_type": "code",
   "execution_count": 20,
   "metadata": {},
   "outputs": [],
   "source": [
    "import torch\n",
    "a = torch.tensor([[1, 1], [2, 2]])\n",
    "b = torch.tensor([[2, 2], [3, 3]])\n",
    "c = torch.tensor([[2, 2, 4], [3, 3, 5]])"
   ]
  },
  {
   "cell_type": "code",
   "execution_count": 24,
   "metadata": {},
   "outputs": [
    {
     "data": {
      "text/plain": [
       "tensor([[3, 3],\n",
       "        [5, 5]])"
      ]
     },
     "execution_count": 24,
     "metadata": {},
     "output_type": "execute_result"
    }
   ],
   "source": [
    "# Addition, Compatible Shapes\n",
    "a + b"
   ]
  },
  {
   "cell_type": "code",
   "execution_count": 25,
   "metadata": {},
   "outputs": [
    {
     "ename": "RuntimeError",
     "evalue": "The size of tensor a (2) must match the size of tensor b (3) at non-singleton dimension 1",
     "output_type": "error",
     "traceback": [
      "\u001b[1;31m---------------------------------------------------------------------------\u001b[0m",
      "\u001b[1;31mRuntimeError\u001b[0m                              Traceback (most recent call last)",
      "Cell \u001b[1;32mIn[25], line 2\u001b[0m\n\u001b[0;32m      1\u001b[0m \u001b[38;5;66;03m# Addition, Uncompatible Shapes, expects an error\u001b[39;00m\n\u001b[1;32m----> 2\u001b[0m \u001b[43ma\u001b[49m\u001b[43m \u001b[49m\u001b[38;5;241;43m+\u001b[39;49m\u001b[43m \u001b[49m\u001b[43mc\u001b[49m\n",
      "\u001b[1;31mRuntimeError\u001b[0m: The size of tensor a (2) must match the size of tensor b (3) at non-singleton dimension 1"
     ]
    }
   ],
   "source": [
    "# Addition, Uncompatible Shapes, expects an error\n",
    "a + c"
   ]
  },
  {
   "cell_type": "code",
   "execution_count": 26,
   "metadata": {},
   "outputs": [
    {
     "data": {
      "text/plain": [
       "tensor([[2, 2],\n",
       "        [6, 6]])"
      ]
     },
     "execution_count": 26,
     "metadata": {},
     "output_type": "execute_result"
    }
   ],
   "source": [
    "# Elementwise Multiplication\n",
    "a * b"
   ]
  },
  {
   "cell_type": "markdown",
   "metadata": {},
   "source": [
    "\n",
    "[Back to top](#Index)\n",
    "\n",
    "## 3. Neural Network\n",
    "\n",
    "For each of the sections below, make sure you include a description of the steps you followed. Whenever possible, include screenshots of your code or program windows to demonstrate your steps.\n",
    "\n",
    "Here, describe the differences, advantages, and disadvantages of running *queries* against your dataset using the MySQL Workbench or a Python environment."
   ]
  },
  {
   "cell_type": "markdown",
   "metadata": {},
   "source": [
    "[Back to top](#Index)\n",
    "\n",
    "### 3.1 Example: First Neural Network"
   ]
  },
  {
   "cell_type": "code",
   "execution_count": 33,
   "metadata": {},
   "outputs": [
    {
     "data": {
      "text/plain": [
       "tensor([[ 0.2835, -0.2014]], grad_fn=<AddmmBackward0>)"
      ]
     },
     "execution_count": 33,
     "metadata": {},
     "output_type": "execute_result"
    }
   ],
   "source": [
    "import torch\n",
    "import torch.nn as nn\n",
    "# Create input tensor with three features\n",
    "#     Note: Shape of this tensor is torch.Size([1, 3])\n",
    "input_tensor = torch.tensor([[0.3471, 0.4547, -0.2356]])\n",
    "\n",
    "# Define Linear layer\n",
    "linear_layer = nn.Linear(in_features=3, out_features=2)\n",
    "\n",
    "# Flow through linear layer\n",
    "output_tensor = linear_layer(input_tensor)\n",
    "\n",
    "output_tensor"
   ]
  },
  {
   "cell_type": "markdown",
   "metadata": {
    "jp-MarkdownHeadingCollapsed": true
   },
   "source": [
    "[Back to top](#Index)\n",
    "\n",
    "### 3.2 Linear Layer"
   ]
  },
  {
   "cell_type": "markdown",
   "metadata": {},
   "source": [
    "[Back to top](#Index)\n",
    "\n",
    "#### 3.2.1 Linear Layer Attribute\n",
    "nn.Linear -> weight <br/>\n",
    "nn.Linear -> bias <br/>"
   ]
  },
  {
   "cell_type": "code",
   "execution_count": 35,
   "metadata": {},
   "outputs": [],
   "source": [
    "import torch\n",
    "import torch.nn as nn\n",
    "\n",
    "# Create a new linear layer\n",
    "linear_layer = nn.Linear(in_features=3, out_features=2)"
   ]
  },
  {
   "cell_type": "code",
   "execution_count": 39,
   "metadata": {},
   "outputs": [
    {
     "data": {
      "text/plain": [
       "Parameter containing:\n",
       "tensor([[ 0.0112, -0.3490,  0.0244],\n",
       "        [ 0.1000, -0.2276,  0.5342]], requires_grad=True)"
      ]
     },
     "execution_count": 39,
     "metadata": {},
     "output_type": "execute_result"
    }
   ],
   "source": [
    "linear_layer.weight"
   ]
  },
  {
   "cell_type": "code",
   "execution_count": 37,
   "metadata": {},
   "outputs": [
    {
     "data": {
      "text/plain": [
       "Parameter containing:\n",
       "tensor([-0.3142,  0.0035], requires_grad=True)"
      ]
     },
     "execution_count": 37,
     "metadata": {},
     "output_type": "execute_result"
    }
   ],
   "source": [
    "linear_layer.bias"
   ]
  },
  {
   "cell_type": "markdown",
   "metadata": {},
   "source": [
    "[Back to top](#Index)\n",
    "#### 3.2.2 Linear Layer Mechanics\n",
    "Given input tensor X, linear layer weight W0 and bias b0: <br/>\n",
    "output = X @ W0.T + b0 <br/>\n",
    "Shape : (1 * n) = (1 * m) @ (m * n) + n <br/>\n",
    "* where @ stands for <b>Matrix Multiplication</b> <br/>\n",
    "* W0.T stands for <b>Transpose Operation</b> <br/>\n",
    "\n",
    "Note : better make X @ W0.T a 1 * n tensor, not an n * 1 tensor. Or Python's tensor addition rules will ruin the shape!!"
   ]
  },
  {
   "cell_type": "code",
   "execution_count": 107,
   "metadata": {},
   "outputs": [
    {
     "name": "stdout",
     "output_type": "stream",
     "text": [
      "tensor([[0.5490, 0.2936]], grad_fn=<AddmmBackward0>)\n",
      "tensor([[0.5490, 0.2936]], grad_fn=<AddBackward0>)\n"
     ]
    }
   ],
   "source": [
    "import torch\n",
    "import torch.nn as nn\n",
    "\n",
    "# Create input tensor with three features\n",
    "# X : 1 * 3, W0 : 2 * 3, b0 : 2\n",
    "X = torch.tensor([[0.3471, 0.4547, -0.2356]])\n",
    "linear_layer = nn.Linear(in_features=3, out_features=2)\n",
    "W0 = linear_layer.weight\n",
    "b0 = linear_layer.bias\n",
    "\n",
    "# Path 1, from PyTorch layer oeration\n",
    "output = linear_layer(X)\n",
    "print(output)\n",
    "\n",
    "# Path 2, from Matrix Multiplication\n",
    "output2 = X @ W0.T + b0\n",
    "print(output2)"
   ]
  },
  {
   "cell_type": "markdown",
   "metadata": {},
   "source": [
    "[Back to top](#Index)\n",
    "#### 3.2.3 Multiple Linear Layers\n",
    "nn.Sequential(*args) <br/>\n",
    "This function merges all layers and output as one larger model. <br/>\n",
    "Give input to this model and will output the desired shaped tensor. <br/>"
   ]
  },
  {
   "cell_type": "code",
   "execution_count": 108,
   "metadata": {},
   "outputs": [
    {
     "name": "stdout",
     "output_type": "stream",
     "text": [
      "tensor([[-0.3528,  0.0665, -0.1372,  0.0736, -0.0537]],\n",
      "       grad_fn=<AddmmBackward0>)\n"
     ]
    }
   ],
   "source": [
    "import torch\n",
    "import torch.nn as nn\n",
    "\n",
    "# Note : model Object could be indexed, model[i] refers to the ith layer from the model pile\n",
    "model = nn.Sequential(\n",
    "    nn.Linear(10, 18),\n",
    "    nn.Linear(18, 20),\n",
    "    nn.Linear(20, 5)\n",
    ")\n",
    "input_tensor = torch.tensor([[-0.0014, 0.4038, 1.0305, 0.7521, 0.7489, -0.3968, 0.0113, -1.3844, 0.8705, -0.9743]])\n",
    "output_tensor = model(input_tensor)\n",
    "print(output_tensor)"
   ]
  },
  {
   "cell_type": "markdown",
   "metadata": {},
   "source": [
    "[Back to top](#Index)\n",
    "\n",
    "### 3.3 Activation Functions\n",
    "Add non-lineraity to the network to learn more complex relationships. <br/>\n",
    "Limitation of Sigmoid and Softmax: <b>Saturation</b>. Gradient around zero when input is too high or too low, which may lead to <b>vanishing gradient</b> issue."
   ]
  },
  {
   "cell_type": "markdown",
   "metadata": {},
   "source": [
    "[Back to top](#Index)\n",
    "#### 3.3.1 Sigmoid\n",
    "Sigmoid activation function receives an arbitrary input from $\\mathbb{R}$, then output a number in (0, 1). <br/>\n",
    "Usually used for binary classification, with threshold 0.5. <br/>\n",
    "Expression of Sigmoid is :\n",
    "$$\\sigma(x) = \\frac{1}{1 + e^{-x}}$$\n",
    "\n",
    "In order to launch Sigmoid, use nn.Sigmoid() <br/>\n",
    "Sigmoid() can also be stacked in nn.Sequential()"
   ]
  },
  {
   "cell_type": "code",
   "execution_count": 110,
   "metadata": {},
   "outputs": [
    {
     "data": {
      "text/plain": [
       "tensor([[0.9975]])"
      ]
     },
     "execution_count": 110,
     "metadata": {},
     "output_type": "execute_result"
    }
   ],
   "source": [
    "import torch\n",
    "import torch.nn\n",
    "\n",
    "input_tensor = torch.tensor([[6.0]])\n",
    "sigmoid = nn.Sigmoid()\n",
    "output = sigmoid(input_tensor)\n",
    "output"
   ]
  },
  {
   "cell_type": "code",
   "execution_count": 111,
   "metadata": {},
   "outputs": [
    {
     "name": "stdout",
     "output_type": "stream",
     "text": [
      "tensor([[0.4403]], grad_fn=<SigmoidBackward0>)\n"
     ]
    }
   ],
   "source": [
    "input_tensor = torch.tensor([[-0.0014, 0.4038, 1.0305, 0.7521, 0.7489, -0.3968]])\n",
    "model = nn.Sequential(\n",
    "    nn.Linear(6, 3),\n",
    "    nn.Linear(3, 1),\n",
    "    nn.Sigmoid()\n",
    ")\n",
    "output = model(input_tensor)\n",
    "print(output)"
   ]
  },
  {
   "cell_type": "markdown",
   "metadata": {},
   "source": [
    "[Back to top](#Index)\n",
    "#### 3.3.2 Softmax\n",
    "Softmax usually uses for multi-class classification. It takes input with n dimension and output the same shape. <br/>\n",
    "Each output element is between 0 and 1, and the sum of all output entries is 1. <br/>"
   ]
  },
  {
   "cell_type": "code",
   "execution_count": 113,
   "metadata": {},
   "outputs": [
    {
     "data": {
      "text/plain": [
       "tensor([[0.1392, 0.8420, 0.0188]])"
      ]
     },
     "execution_count": 113,
     "metadata": {},
     "output_type": "execute_result"
    }
   ],
   "source": [
    "import torch\n",
    "import torch.nn\n",
    "\n",
    "input_tensor = torch.tensor([[4.3, 6.1, 2.3]])\n",
    "prob = nn.Softmax(dim=-1) # Note: dim=-1 in Softmax is applied to input tensor's last dimension\n",
    "output = prob(input_tensor)\n",
    "output"
   ]
  },
  {
   "cell_type": "markdown",
   "metadata": {},
   "source": [
    "[Back to top](#Index)\n",
    "#### 3.3.3 ReLU\n",
    "Full name: Rectified Linear Unit <br/>\n",
    "Output : max(0, input)"
   ]
  },
  {
   "cell_type": "code",
   "execution_count": 1,
   "metadata": {},
   "outputs": [],
   "source": [
    "import torch.nn as nn\n",
    "relu = nn.ReLU()"
   ]
  },
  {
   "cell_type": "markdown",
   "metadata": {},
   "source": [
    "[Back to top](#Index)\n",
    "#### 3.3.4 Leaky ReLU\n",
    "Different from ReLU, Leaky ReLU multiplies a small gradient for inputs (default 0.01). <br/>\n",
    "Output: max(0.01*input, input)"
   ]
  },
  {
   "cell_type": "code",
   "execution_count": 4,
   "metadata": {},
   "outputs": [],
   "source": [
    "import torch.nn as nn\n",
    "leaky_relu = nn.LeakyReLU(negative_slope=0.05)"
   ]
  },
  {
   "cell_type": "markdown",
   "metadata": {},
   "source": [
    "[Back to top](#Index)\n",
    "### 3.4 Forward Pass\n",
    "This chapter introduces codes used for binary classification, multi-class classification and regression"
   ]
  },
  {
   "cell_type": "code",
   "execution_count": 3,
   "metadata": {},
   "outputs": [
    {
     "data": {
      "text/plain": [
       "tensor([[0.7690],\n",
       "        [0.4539],\n",
       "        [0.5362],\n",
       "        [0.5637],\n",
       "        [0.6692]], grad_fn=<SigmoidBackward0>)"
      ]
     },
     "execution_count": 3,
     "metadata": {},
     "output_type": "execute_result"
    }
   ],
   "source": [
    "import torch\n",
    "import torch.nn as nn\n",
    "\n",
    "# Input shape : 5 * 6\n",
    "input_tensor = torch.tensor([\n",
    "    [-0.4421,  1.5207,  2.0607, -0.3647,  0.4691,  0.0946],\n",
    "    [-0.9155, -0.0475, -1.3645,  0.6336, -1.9520, -0.3398],\n",
    "    [ 0.7406,  1.6763, -0.8511,  0.2432,  0.1123, -0.0633],\n",
    "    [-1.6630, -0.0718, -0.1285,  0.5396, -0.0288, -0.8622],\n",
    "    [-0.7413,  1.7920, -0.0883, -0.6685,  0.4745, -0.4245]])"
   ]
  },
  {
   "cell_type": "code",
   "execution_count": null,
   "metadata": {},
   "outputs": [],
   "source": [
    "# Binary Classification\n",
    "model = nn.Sequential(\n",
    "    nn.Linear(6, 4),\n",
    "    nn.Linear(4, 1),\n",
    "    nn.Sigmoid()\n",
    ")\n",
    "\n",
    "output = model(input_tensor)\n",
    "output"
   ]
  },
  {
   "cell_type": "code",
   "execution_count": 4,
   "metadata": {},
   "outputs": [
    {
     "data": {
      "text/plain": [
       "tensor([[0.2776, 0.2512, 0.4712],\n",
       "        [0.5101, 0.2632, 0.2267],\n",
       "        [0.2900, 0.2577, 0.4522],\n",
       "        [0.3614, 0.2569, 0.3817],\n",
       "        [0.2266, 0.2615, 0.5119]], grad_fn=<SoftmaxBackward0>)"
      ]
     },
     "execution_count": 4,
     "metadata": {},
     "output_type": "execute_result"
    }
   ],
   "source": [
    "# Multi-class Classification\n",
    "n_classes = 3\n",
    "model = nn.Sequential(\n",
    "    nn.Linear(6, 4),\n",
    "    nn.Linear(4, n_classes),\n",
    "    nn.Softmax(dim=-1)\n",
    ")\n",
    "\n",
    "output = model(input_tensor)\n",
    "output"
   ]
  },
  {
   "cell_type": "code",
   "execution_count": 5,
   "metadata": {},
   "outputs": [
    {
     "data": {
      "text/plain": [
       "tensor([[ 0.0349],\n",
       "        [-0.0770],\n",
       "        [ 0.2950],\n",
       "        [-0.6248],\n",
       "        [-0.1757]], grad_fn=<AddmmBackward0>)"
      ]
     },
     "execution_count": 5,
     "metadata": {},
     "output_type": "execute_result"
    }
   ],
   "source": [
    "# Regression\n",
    "model = nn.Sequential(\n",
    "    nn.Linear(6, 4),\n",
    "    nn.Linear(4, 1)\n",
    ")\n",
    "\n",
    "output = model(input_tensor)\n",
    "output"
   ]
  },
  {
   "cell_type": "markdown",
   "metadata": {
    "jp-MarkdownHeadingCollapsed": true
   },
   "source": [
    "[Back to top](#Index)\n",
    "### 3.5 Loss Functions\n",
    "One-hot encoding  : Use torch.nn.functional <br/>\n",
    "Cross Entropy Loss: From torch.nn import CrossEntropyLoss"
   ]
  },
  {
   "cell_type": "markdown",
   "metadata": {},
   "source": [
    "[Back to top](#Index)\n",
    "#### 3.5.1 One-hot Encoding"
   ]
  },
  {
   "cell_type": "code",
   "execution_count": 10,
   "metadata": {},
   "outputs": [
    {
     "data": {
      "text/plain": [
       "tensor([1, 0, 0])"
      ]
     },
     "execution_count": 10,
     "metadata": {},
     "output_type": "execute_result"
    }
   ],
   "source": [
    "import torch.nn.functional as F\n",
    "\n",
    "# Input tensor must be integer between 0 and num_classes\n",
    "# Return a num_class length integer tensor with one 1 and all others are 0\n",
    "F.one_hot(torch.tensor(0), num_classes=3)"
   ]
  },
  {
   "cell_type": "code",
   "execution_count": 11,
   "metadata": {},
   "outputs": [
    {
     "data": {
      "text/plain": [
       "tensor([0, 1, 0])"
      ]
     },
     "execution_count": 11,
     "metadata": {},
     "output_type": "execute_result"
    }
   ],
   "source": [
    "F.one_hot(torch.tensor(1), num_classes=3)"
   ]
  },
  {
   "cell_type": "code",
   "execution_count": 12,
   "metadata": {},
   "outputs": [
    {
     "data": {
      "text/plain": [
       "tensor([0, 0, 1])"
      ]
     },
     "execution_count": 12,
     "metadata": {},
     "output_type": "execute_result"
    }
   ],
   "source": [
    "F.one_hot(torch.tensor(2), num_classes=3)"
   ]
  },
  {
   "cell_type": "markdown",
   "metadata": {},
   "source": [
    "[Back to top](#Index)\n",
    "#### 3.5.2 Cross Entropy Loss\n",
    "Expression of Cross Entropy Loss function is:\n",
    "$$\r\n",
    "\\mathbf{L} = -\\sum_{i=1}^{N} y_i \\log(p_i)$$\n",
    "* yi: The ith one-hot encoding vector, with one 1 in the vector and 0 otherwise.\n",
    "* pi: The ith softmax probability vector.\n",
    "* Multiplication of vector yi and pi only depends on the probability related to the index where 1 exists in yi.\n",
    "* A scalar is returned from L for each given sample.$$$$"
   ]
  },
  {
   "cell_type": "code",
   "execution_count": 14,
   "metadata": {},
   "outputs": [
    {
     "data": {
      "text/plain": [
       "tensor(0.8131, dtype=torch.float64)"
      ]
     },
     "execution_count": 14,
     "metadata": {},
     "output_type": "execute_result"
    }
   ],
   "source": [
    "from torch.nn import CrossEntropyLoss\n",
    "scores = torch.tensor([[-0.1211, 0.1059]])\n",
    "one_hot_target = torch.tensor([[1, 0]])\n",
    "criterion = CrossEntropyLoss()\n",
    "# Note for arguments of criterion:\n",
    "# First probability, then one-hot encoding\n",
    "criterion(scores.double(), one_hot_target.double())"
   ]
  },
  {
   "cell_type": "markdown",
   "metadata": {},
   "source": [
    "[Back to top](#Index)\n",
    "#### 3.5.3 Mean Squared Error Loss\n",
    "Input two vectors and calculate the 2-Norm of the difference <br/>\n",
    "torch.nn -> MSELoss() in PyTorch"
   ]
  },
  {
   "cell_type": "code",
   "execution_count": 43,
   "metadata": {},
   "outputs": [],
   "source": [
    "# Demo of MSE Loss principles\n",
    "import numpy as np\n",
    "def mean_squared_loss(prediction : [int], target : [int]):\n",
    "    return np.mean((prediction - target) ** 2)"
   ]
  },
  {
   "cell_type": "code",
   "execution_count": 46,
   "metadata": {},
   "outputs": [],
   "source": [
    "import torch.nn as nn\n",
    "criterion = nn.MSELoss()\n",
    "\n",
    "prediction = torch.tensor([[-0.1211, 0.1059]])\n",
    "target = torch.tensor([[1, 0]])\n",
    "\n",
    "loss = criterion(prediction, target)"
   ]
  },
  {
   "cell_type": "markdown",
   "metadata": {},
   "source": [
    "[Back to top](#Index)\n",
    "### 3.6 Backpropagation\n",
    "torch.nn -> LossFn() -> loss -> backward() <br/>\n",
    "torch.nn -> Sequential() -> [i] -> weight -> grad <br/>"
   ]
  },
  {
   "cell_type": "code",
   "execution_count": 22,
   "metadata": {},
   "outputs": [],
   "source": [
    "import torch\n",
    "import torch.nn as nn\n",
    "from torch.nn import CrossEntropyLoss\n",
    "\n",
    "# Input shape 1 * 16\n",
    "input_tensor = torch.tensor([\n",
    "    [-0.4421,  1.5207,  2.0607, -0.3647,  0.4691,  0.0946, -0.9155, -0.0475,\n",
    "     -1.3645,  0.6336, -1.9520, -0.3398, 0.7406,  1.6763, -0.8511,  0.2432]])\n",
    "\n",
    "target = torch.tensor([[0, 0, 0, 0, 0, 0, 0, 0, 0, 0, 0, 0, 1, 0, 0, 0]])\n",
    "\n",
    "model = nn.Sequential(\n",
    "    nn.Linear(16, 8),\n",
    "    nn.Linear(8, 16),\n",
    "    nn.Softmax(dim=-1)\n",
    ")\n",
    "\n",
    "prediction = model(input_tensor)\n",
    "\n",
    "criterion = CrossEntropyLoss()\n",
    "\n",
    "loss = criterion(prediction.double(), target.double())"
   ]
  },
  {
   "cell_type": "code",
   "execution_count": 23,
   "metadata": {},
   "outputs": [],
   "source": [
    "# Backpropagation Step:\n",
    "loss.backward()"
   ]
  },
  {
   "cell_type": "code",
   "execution_count": 32,
   "metadata": {},
   "outputs": [
    {
     "data": {
      "text/plain": [
       "tensor([[ 1.2426e-04, -4.2742e-04, -5.7920e-04,  1.0251e-04, -1.3185e-04,\n",
       "         -2.6589e-05,  2.5732e-04,  1.3351e-05,  3.8352e-04, -1.7809e-04,\n",
       "          5.4865e-04,  9.5508e-05, -2.0816e-04, -4.7116e-04,  2.3922e-04,\n",
       "         -6.8356e-05],\n",
       "        [-3.1705e-03,  1.0906e-02,  1.4778e-02, -2.6154e-03,  3.3641e-03,\n",
       "          6.7842e-04, -6.5654e-03, -3.4064e-04, -9.7854e-03,  4.5438e-03,\n",
       "         -1.3999e-02, -2.4368e-03,  5.3112e-03,  1.2021e-02, -6.1036e-03,\n",
       "          1.7441e-03],\n",
       "        [-1.5142e-04,  5.2083e-04,  7.0577e-04, -1.2491e-04,  1.6066e-04,\n",
       "          3.2400e-05, -3.1355e-04, -1.6268e-05, -4.6733e-04,  2.1700e-04,\n",
       "         -6.6855e-04, -1.1638e-04,  2.5365e-04,  5.7412e-04, -2.9150e-04,\n",
       "          8.3294e-05],\n",
       "        [ 1.7258e-04, -5.9364e-04, -8.0444e-04,  1.4237e-04, -1.8312e-04,\n",
       "         -3.6929e-05,  3.5739e-04,  1.8543e-05,  5.3266e-04, -2.4734e-04,\n",
       "          7.6201e-04,  1.3265e-04, -2.8911e-04, -6.5438e-04,  3.3225e-04,\n",
       "         -9.4939e-05],\n",
       "        [ 4.1085e-03, -1.4132e-02, -1.9150e-02,  3.3892e-03, -4.3594e-03,\n",
       "         -8.7912e-04,  8.5078e-03,  4.4142e-04,  1.2680e-02, -5.8881e-03,\n",
       "          1.8140e-02,  3.1578e-03, -6.8824e-03, -1.5578e-02,  7.9093e-03,\n",
       "         -2.2601e-03],\n",
       "        [ 5.8842e-03, -2.0240e-02, -2.7427e-02,  4.8540e-03, -6.2435e-03,\n",
       "         -1.2591e-03,  1.2185e-02,  6.3220e-04,  1.8161e-02, -8.4329e-03,\n",
       "          2.5980e-02,  4.5226e-03, -9.8571e-03, -2.2311e-02,  1.1328e-02,\n",
       "         -3.2369e-03],\n",
       "        [ 5.3846e-03, -1.8522e-02, -2.5099e-02,  4.4419e-03, -5.7135e-03,\n",
       "         -1.1522e-03,  1.1151e-02,  5.7854e-04,  1.6619e-02, -7.7171e-03,\n",
       "          2.3775e-02,  4.1387e-03, -9.0203e-03, -2.0417e-02,  1.0366e-02,\n",
       "         -2.9621e-03],\n",
       "        [-4.8168e-03,  1.6568e-02,  2.2452e-02, -3.9735e-03,  5.1110e-03,\n",
       "          1.0307e-03, -9.9746e-03, -5.1753e-04, -1.4867e-02,  6.9033e-03,\n",
       "         -2.1268e-02, -3.7022e-03,  8.0691e-03,  1.8264e-02, -9.2730e-03,\n",
       "          2.6497e-03]])"
      ]
     },
     "execution_count": 32,
     "metadata": {},
     "output_type": "execute_result"
    }
   ],
   "source": [
    "# Note about the shape of gradient is each output related to each input\n",
    "model[0].weight.grad"
   ]
  },
  {
   "cell_type": "code",
   "execution_count": 27,
   "metadata": {},
   "outputs": [
    {
     "data": {
      "text/plain": [
       "tensor([-0.0003,  0.0072,  0.0003, -0.0004, -0.0093, -0.0133, -0.0122,  0.0109])"
      ]
     },
     "execution_count": 27,
     "metadata": {},
     "output_type": "execute_result"
    }
   ],
   "source": [
    "model[0].bias.grad"
   ]
  },
  {
   "cell_type": "code",
   "execution_count": 35,
   "metadata": {},
   "outputs": [],
   "source": [
    "# Weight Update\n",
    "learning_rate = 1e-3\n",
    "weight = model[0].weight\n",
    "weight = weight - learning_rate * model[0].weight.grad"
   ]
  },
  {
   "cell_type": "markdown",
   "metadata": {},
   "source": [
    "[Back to top](#Index)\n",
    "### 3.7 Optimizer\n",
    "torch.optim <br/>\n",
    "torch.optim -> step() for upgrade <br/>\n",
    "Instead of manually update each weight, use optimizer to help the update process "
   ]
  },
  {
   "cell_type": "markdown",
   "metadata": {},
   "source": [
    "[Back to top](#Index)\n",
    "#### 3.7.1 SGD Optimizer\n",
    "Stochastic Gradient Descent(SGD) Optimizer takes two keyword arguments:\n",
    "* lr : Learning Rate, typically between 1e-4 and 1e-2.\n",
    "* momentum : inertia controller, typically between 0.85 and 0.99"
   ]
  },
  {
   "cell_type": "code",
   "execution_count": 8,
   "metadata": {},
   "outputs": [],
   "source": [
    "import torch\n",
    "import torch.nn as nn\n",
    "import torch.optim as optim\n",
    "from torch.nn import CrossEntropyLoss\n",
    "\n",
    "# Input shape 1 * 16\n",
    "input_tensor = torch.tensor([\n",
    "    [-0.4421,  1.5207,  2.0607, -0.3647,  0.4691,  0.0946, -0.9155, -0.0475,\n",
    "     -1.3645,  0.6336, -1.9520, -0.3398, 0.7406,  1.6763, -0.8511,  0.2432]])\n",
    "\n",
    "target = torch.tensor([[0, 0, 0, 0, 0, 0, 0, 0, 0, 0, 0, 0, 1, 0, 0, 0]])\n",
    "\n",
    "model = nn.Sequential(\n",
    "    nn.Linear(16, 8),\n",
    "    nn.Linear(8, 16),\n",
    "    nn.Softmax(dim=-1))\n",
    "\n",
    "prediction = model(input_tensor)\n",
    "criterion = CrossEntropyLoss()\n",
    "loss = criterion(prediction.double(), target.double())\n",
    "loss.backward()"
   ]
  },
  {
   "cell_type": "code",
   "execution_count": 9,
   "metadata": {},
   "outputs": [],
   "source": [
    "optimizer = optim.SGD(model.parameters(), lr=0.001, momentum=0.95)"
   ]
  },
  {
   "cell_type": "code",
   "execution_count": 10,
   "metadata": {},
   "outputs": [],
   "source": [
    "optimizer.step()"
   ]
  },
  {
   "cell_type": "markdown",
   "metadata": {},
   "source": [
    "[Back to top](#Index)\n",
    "### 3.8 Counting Parameters\n",
    "Use model -> parameter -> numel() to get number of parameters for one layer. <br/>\n",
    "Note : torch.numel is generally used to return the number of total elements in the input tensor."
   ]
  },
  {
   "cell_type": "code",
   "execution_count": 5,
   "metadata": {},
   "outputs": [],
   "source": [
    "import torch\n",
    "import torch.nn as nn\n",
    "\n",
    "model = nn.Sequential(\n",
    "    nn.Linear(10, 18),\n",
    "    nn.Linear(18, 20),\n",
    "    nn.Linear(20, 5)\n",
    ")"
   ]
  },
  {
   "cell_type": "code",
   "execution_count": 6,
   "metadata": {},
   "outputs": [
    {
     "name": "stdout",
     "output_type": "stream",
     "text": [
      "683\n"
     ]
    }
   ],
   "source": [
    "total = 0\n",
    "for parameter in model.parameters():\n",
    "    total += parameter.numel()\n",
    "print(total)"
   ]
  },
  {
   "cell_type": "markdown",
   "metadata": {},
   "source": [
    "[Back to top](#Index)\n",
    "### 3.9 Layer Initialization\n",
    "torch.nn -> init provides methods to initialize layers <br/>\n",
    "For example, init -> uniform_(param, lower_bound, upper_bound) initializes the layer weights from uniform distribution."
   ]
  },
  {
   "cell_type": "code",
   "execution_count": 12,
   "metadata": {},
   "outputs": [
    {
     "name": "stdout",
     "output_type": "stream",
     "text": [
      "tensor(0.0883, grad_fn=<MaxBackward1>) tensor(-0.0884, grad_fn=<MinBackward1>)\n"
     ]
    }
   ],
   "source": [
    "import torch.nn as nn\n",
    "layer = nn.Linear(128, 64)\n",
    "\n",
    "# Check the maximum and minimun of a layer\n",
    "print(layer.weight.max(), layer.weight.min())"
   ]
  },
  {
   "cell_type": "code",
   "execution_count": 15,
   "metadata": {},
   "outputs": [
    {
     "name": "stdout",
     "output_type": "stream",
     "text": [
      "tensor(0.9997, grad_fn=<MaxBackward1>) tensor(0.0001, grad_fn=<MinBackward1>)\n"
     ]
    }
   ],
   "source": [
    "nn.init.uniform_(layer.weight)\n",
    "print(layer.weight.max(), layer.weight.min())"
   ]
  },
  {
   "cell_type": "markdown",
   "metadata": {},
   "source": [
    "[Back to top](#Index)\n",
    "\n",
    "## 4. PyTorch Framework"
   ]
  },
  {
   "cell_type": "markdown",
   "metadata": {},
   "source": [
    "[Back to top](#Index)\n",
    "### 4.1 Dataset and DataLoader"
   ]
  },
  {
   "attachments": {
    "1b383b4b-e32c-4572-999d-5eecdbd4c814.png": {
     "image/png": "[encoded data removed]"
    }
   },
   "cell_type": "markdown",
   "metadata": {
    "jp-MarkdownHeadingCollapsed": true
   },
   "source": [
    "[Back to top](#Index)\n",
    "#### 4.1.1 From pandas\n",
    "Suppose you originally have a csv data file at first, where type \n",
    "![0.png](attachment:1b383b4b-e32c-4572-999d-5eecdbd4c814.png)"
   ]
  },
  {
   "cell_type": "code",
   "execution_count": null,
   "metadata": {},
   "outputs": [],
   "source": [
    "import pandas as pd\n",
    "\n",
    "# Read data from .csv file\n",
    "animals = pd.read_csv(\"animals.csv\")"
   ]
  },
  {
   "cell_type": "code",
   "execution_count": null,
   "metadata": {},
   "outputs": [],
   "source": [
    "import numpy as np\n",
    "\n",
    "# For features, abandon the first column, maintaining all other data\n",
    "# For target, only keep the last column\n",
    "# Note : if want to select certain columns from dataframe as features, use this:\n",
    "#     dataframe[[col_name1, col_name2, ...]].to_numpy()\n",
    "#     dataframe[one_column].to_numpy() for selecting one single column\n",
    "# OR: dataframe.iloc[[row_nums*], [col_nums*]]\n",
    "\n",
    "features = animals.iloc[:, 1:-1]\n",
    "target = animals.iloc[:, -1]\n",
    "\n",
    "# Convert to a numpy arrays\n",
    "X = features.to_numpy()\n",
    "y = target.to_numpy()"
   ]
  },
  {
   "cell_type": "markdown",
   "metadata": {},
   "source": [
    "[Back to top](#Index)\n",
    "#### 4.1.2 TensorDataset and DataLoader\n",
    "torch.utils.data -> TensorDataset <br/>\n",
    "torch.utils.data -> DataLoader"
   ]
  },
  {
   "cell_type": "code",
   "execution_count": 1,
   "metadata": {},
   "outputs": [],
   "source": [
    "import numpy as np\n",
    "\n",
    "# Same Dataset from  4.1.1\n",
    "X = np.array([\n",
    "    [0, 1, 1, 0, 1, 0, 2, 1],\n",
    "    [0, 0, 1, 0, 0, 1, 0, 1],\n",
    "    [0, 1, 1, 0, 1, 0, 2, 1],\n",
    "    [1, 0, 0, 1, 0, 0, 2, 1],\n",
    "    [0, 0, 1, 0, 1, 0, 4, 1]\n",
    "])\n",
    "\n",
    "# Each y stands for a type of animal\n",
    "y = np.array([2, 2, 4, 3, 1])"
   ]
  },
  {
   "cell_type": "code",
   "execution_count": 4,
   "metadata": {},
   "outputs": [],
   "source": [
    "import torch\n",
    "from torch.utils.data import TensorDataset\n",
    "\n",
    "# Initiatiate dataset class\n",
    "dataset = TensorDataset(torch.tensor(X).double(), torch.tensor(y).double())"
   ]
  },
  {
   "cell_type": "code",
   "execution_count": 6,
   "metadata": {},
   "outputs": [
    {
     "name": "stdout",
     "output_type": "stream",
     "text": [
      "tensor([0, 1, 1, 0, 1, 0, 2, 1], dtype=torch.int32) tensor(2, dtype=torch.int32)\n"
     ]
    }
   ],
   "source": [
    "# Accessing an individual sample by indexing\n",
    "# Each index is a tuple\n",
    "sample = dataset[0]\n",
    "input_sample, label_sample = sample\n",
    "print(input_sample, label_sample)"
   ]
  },
  {
   "cell_type": "code",
   "execution_count": 7,
   "metadata": {},
   "outputs": [],
   "source": [
    "from torch.utils.data import DataLoader\n",
    "\n",
    "# Hyperparameters\n",
    "batch_size = 2\n",
    "shuffle = True\n",
    "\n",
    "dataloader = DataLoader(dataset, batch_size=batch_size, shuffle=shuffle)"
   ]
  },
  {
   "cell_type": "code",
   "execution_count": 9,
   "metadata": {},
   "outputs": [
    {
     "name": "stdout",
     "output_type": "stream",
     "text": [
      "batch_input :  tensor([[0, 1, 1, 0, 1, 0, 2, 1],\n",
      "        [1, 0, 0, 1, 0, 0, 2, 1]], dtype=torch.int32)\n",
      "batch_labels :  tensor([2, 3], dtype=torch.int32)\n",
      "batch_input :  tensor([[0, 0, 1, 0, 1, 0, 4, 1],\n",
      "        [0, 1, 1, 0, 1, 0, 2, 1]], dtype=torch.int32)\n",
      "batch_labels :  tensor([1, 4], dtype=torch.int32)\n",
      "batch_input :  tensor([[0, 0, 1, 0, 0, 1, 0, 1]], dtype=torch.int32)\n",
      "batch_labels :  tensor([2], dtype=torch.int32)\n"
     ]
    }
   ],
   "source": [
    "# Each element from DataLoader is a tuple\n",
    "for batch_input, batch_labels in dataloader:\n",
    "    print(\"batch_input : \", batch_input)\n",
    "    print(\"batch_labels : \", batch_labels)"
   ]
  },
  {
   "cell_type": "code",
   "execution_count": 14,
   "metadata": {},
   "outputs": [
    {
     "name": "stdout",
     "output_type": "stream",
     "text": [
      "tensor([[0, 0, 1, 0, 1, 0, 4, 1],\n",
      "        [0, 1, 1, 0, 1, 0, 2, 1]], dtype=torch.int32) tensor([1, 4], dtype=torch.int32)\n"
     ]
    }
   ],
   "source": [
    "# If just want to load one batch of data, you may want to try this:\n",
    "x, t = next(iter(dataloader))\n",
    "print(x, t)"
   ]
  },
  {
   "cell_type": "markdown",
   "metadata": {},
   "source": [
    "[Back to top](#Index)\n",
    "### 4.2 Training Loop"
   ]
  },
  {
   "cell_type": "code",
   "execution_count": null,
   "metadata": {},
   "outputs": [],
   "source": [
    "for epoch in range(num_epochs):\n",
    "    for data in dataloader:\n",
    "        # 1, Set the gradient to zero\n",
    "        optimizer.zero_grad()\n",
    "        # 2, Get feature and target from the DataLoader\n",
    "        feature, target = data\n",
    "        # 3, Run a forward pass\n",
    "        predict = model(feature)\n",
    "        # 4, Computer loss and gradient\n",
    "        loss = criterion(predict, target)\n",
    "        loss.backward()\n",
    "        # 5, Update parameters\n",
    "        optimizer.step()"
   ]
  },
  {
   "cell_type": "markdown",
   "metadata": {
    "jp-MarkdownHeadingCollapsed": true
   },
   "source": [
    "[Back to top](#Index)\n",
    "### 4.3 Fine Tuning\n",
    "We freeze some parameters and only train the rest parameters. <br/>\n",
    "Originally, the printed name looks like \"1.weight\", \"1.bias\", or with other index n"
   ]
  },
  {
   "cell_type": "code",
   "execution_count": 16,
   "metadata": {},
   "outputs": [],
   "source": [
    "import torch.nn as nn\n",
    "model = nn.Sequential(\n",
    "    nn.Linear(64, 128),\n",
    "    nn.Linear(128, 256)\n",
    ")"
   ]
  },
  {
   "cell_type": "code",
   "execution_count": 19,
   "metadata": {},
   "outputs": [],
   "source": [
    "# named_parameters : return a tuple containing both name and parameter\n",
    "for name, param in model.named_parameters():\n",
    "    if name == \"0.weight\":\n",
    "        # When requires_grad is set False, PyTorch would not take resource to compute these gradients.\n",
    "        param.requires_grad = False"
   ]
  },
  {
   "cell_type": "markdown",
   "metadata": {
    "jp-MarkdownHeadingCollapsed": true
   },
   "source": [
    "[Back to top](#Index)\n",
    "### 4.4 Model Summary\n",
    "torchsummary -> summary(model, input_size : Tuple) <br/>\n",
    "Print a detailed hierarchy about the model selected <br/>"
   ]
  },
  {
   "cell_type": "code",
   "execution_count": 25,
   "metadata": {},
   "outputs": [],
   "source": [
    "import torch\n",
    "import torch.nn as nn\n",
    "\n",
    "model = nn.Sequential(\n",
    "    nn.Linear(64, 128),\n",
    "    nn.Linear(128, 256)\n",
    ")"
   ]
  },
  {
   "cell_type": "code",
   "execution_count": 40,
   "metadata": {},
   "outputs": [
    {
     "name": "stdout",
     "output_type": "stream",
     "text": [
      "----------------------------------------------------------------\n",
      "        Layer (type)               Output Shape         Param #\n",
      "================================================================\n",
      "            Linear-1                  [-1, 128]           8,320\n",
      "            Linear-2                  [-1, 256]          33,024\n",
      "================================================================\n",
      "Total params: 41,344\n",
      "Trainable params: 41,344\n",
      "Non-trainable params: 0\n",
      "----------------------------------------------------------------\n",
      "Input size (MB): 0.00\n",
      "Forward/backward pass size (MB): 0.00\n",
      "Params size (MB): 0.16\n",
      "Estimated Total Size (MB): 0.16\n",
      "----------------------------------------------------------------\n"
     ]
    }
   ],
   "source": [
    "from torchsummary import summary\n",
    "\n",
    "# Note 1 : Before firing summary, must make sure all parameters are on the same device.\n",
    "device = torch.device(\"cuda\" if torch.cuda.is_available() else \"cpu\")\n",
    "model.to(device)\n",
    "\n",
    "# Note 2 : While trying to summary 1 - Dimentional input, remember to write it in a form of tuple.\n",
    "#          That is, using (n, ) as a form of tuple instead of (n) as an integer type\n",
    "summary(model, input_size = (64, ))"
   ]
  },
  {
   "cell_type": "markdown",
   "metadata": {
    "jp-MarkdownHeadingCollapsed": true
   },
   "source": [
    "[Back to top](#Index)\n",
    "### 4.5 Summarizing Training Loss"
   ]
  },
  {
   "cell_type": "code",
   "execution_count": null,
   "metadata": {},
   "outputs": [],
   "source": [
    "# For training loop:\n",
    "training_loss = 0.0\n",
    "for i, data in enumerate(trainloader, 1):\n",
    "    # >>> Run forward function\n",
    "    loss = criterion(pred, label)\n",
    "    # >>> Calculate Gradient\n",
    "    training_loss += loss.item()\n",
    "epoch_loss = training_loss / len(trainloader)"
   ]
  },
  {
   "cell_type": "code",
   "execution_count": null,
   "metadata": {},
   "outputs": [],
   "source": [
    "# For validation loop:\n",
    "validation_loss = 0.0\n",
    "# Put model in validation model:\n",
    "# Some functions behave differently in both modes, such as Dropout, causing a higher loss during training.\n",
    "\n",
    "model.eval()\n",
    "# Accelerate computing by not calculating gradients\n",
    "with torch.no_grad():\n",
    "    for i, data in enumerate(validationloader, 1):\n",
    "    # >>> Run forward function\n",
    "    loss = criterion(pred, label)\n",
    "    # >>> Calculate Gradient\n",
    "    validation_loss += loss.item()\n",
    "epoch_loss = validation_loss / len(validationloader)\n",
    "\n",
    "# Note : Do not forget to switch to model.train() after validating!\n",
    "model.train()"
   ]
  },
  {
   "cell_type": "markdown",
   "metadata": {},
   "source": [
    "[Back to top](#Index)\n",
    "### 4.6 Torchmetrics\n",
    "Torchmetrics is used to calculate accuracy."
   ]
  },
  {
   "cell_type": "code",
   "execution_count": null,
   "metadata": {},
   "outputs": [],
   "source": [
    "import torchmetrics\n",
    "\n",
    "metric = torchmetrics.Accuracy(task=\"multiclass\", num_classes=3)\n",
    "\n",
    "for i, data in enumerate(dataloader, 0):\n",
    "    features, labels = data\n",
    "    output = model(features)\n",
    "\n",
    "    # Calculate accuracy based on batch\n",
    "    # If input is one-hot encoding, use .argmax() to return to class number\n",
    "    acc = metric(output, labels.argmax(dim=-1))\n",
    "\n",
    "acc = metric.compute()\n",
    "print(f\"Accuracy on all data: {acc}\")\n",
    "\n",
    "# Reset metric for next epoch\n",
    "metric.reset()"
   ]
  },
  {
   "cell_type": "markdown",
   "metadata": {},
   "source": [
    "[Back to top](#Index)\n",
    "### 4.7 Overfitting"
   ]
  },
  {
   "cell_type": "markdown",
   "metadata": {},
   "source": [
    "[Back to top](#Index)\n",
    "#### 4.7.1 Dropout\n",
    "torch.nn -> Dropout(p), where p indicates the probability of setting a neuron to zero <br/>\n",
    "Must switch mode between train() and eval() situations! <br/>"
   ]
  },
  {
   "cell_type": "code",
   "execution_count": 19,
   "metadata": {},
   "outputs": [
    {
     "data": {
      "text/plain": [
       "Parameter containing:\n",
       "tensor([[-0.2387,  0.0719,  0.0983,  0.0758,  0.2631,  0.2073,  0.1288,  0.0417],\n",
       "        [-0.2321, -0.0076,  0.2673, -0.1332,  0.3446,  0.1427, -0.1750,  0.1758],\n",
       "        [ 0.2266,  0.1328, -0.3435,  0.0184,  0.2335, -0.2809,  0.0284,  0.2317],\n",
       "        [-0.3336,  0.2019,  0.2902, -0.1664, -0.3072, -0.1662,  0.3078,  0.1184]],\n",
       "       requires_grad=True)"
      ]
     },
     "execution_count": 19,
     "metadata": {},
     "output_type": "execute_result"
    }
   ],
   "source": [
    "import torch\n",
    "import torch.nn as nn\n",
    "\n",
    "model = nn.Sequential(\n",
    "    nn.Linear(8, 4),\n",
    "    nn.ReLU(),\n",
    "    nn.Dropout(p=0.5)\n",
    ")"
   ]
  },
  {
   "cell_type": "code",
   "execution_count": 20,
   "metadata": {},
   "outputs": [
    {
     "name": "stdout",
     "output_type": "stream",
     "text": [
      "tensor([[1.0161, 0.3975, 0.0000, 0.0000]], grad_fn=<MulBackward0>)\n"
     ]
    }
   ],
   "source": [
    "features = torch.randn((1, 8))\n",
    "output = model(features)\n",
    "print(output) # You may see some zeros in the output"
   ]
  },
  {
   "cell_type": "markdown",
   "metadata": {},
   "source": [
    "[Back to top](#Index)\n",
    "#### 4.7.2 Weight Decay\n",
    "Operate arguments within optimizers"
   ]
  },
  {
   "cell_type": "code",
   "execution_count": 21,
   "metadata": {},
   "outputs": [],
   "source": [
    "import torch\n",
    "import torch.nn as nn\n",
    "import torch.optim as optim\n",
    "\n",
    "model = nn.Linear(6, 3)\n",
    "optimizer = optim.SGD(model.parameters(), lr=1e-3, weight_decay=1e-4)"
   ]
  },
  {
   "cell_type": "markdown",
   "metadata": {},
   "source": [
    "[Back to top](#Index)\n",
    "#### 4.7.3 Data Augmentation"
   ]
  },
  {
   "cell_type": "markdown",
   "metadata": {},
   "source": [
    "[Back to top](#Index)\n",
    "### 4.8 General Recipe for training\n",
    "1, Overfitting one single datapoint <br/>\n",
    "2, Dealing with overfitting <br/>\n",
    "3, Fine-tuning hyperparameters (using grid search or random search) <br/>"
   ]
  },
  {
   "cell_type": "code",
   "execution_count": null,
   "metadata": {},
   "outputs": [],
   "source": [
    "# Code for Overfitting one single datapoint\n",
    "features, labels = next(iter(trainloader))\n",
    "for i in range(1e3):\n",
    "    optimizer.zero_grad()\n",
    "    outputs = model(features)\n",
    "    loss = criterion(outputs, labels)\n",
    "    loss.backward()\n",
    "    optimizer.step()"
   ]
  },
  {
   "cell_type": "code",
   "execution_count": null,
   "metadata": {},
   "outputs": [],
   "source": [
    "# Grid search:\n",
    "for factor in range(2, 6):\n",
    "    lr = 10 ** -factor\n",
    "\n",
    "# Random search:\n",
    "import numpy as np\n",
    "factor = np.random.uniform(2, 6)\n",
    "lr = 10 ** -factor"
   ]
  },
  {
   "cell_type": "markdown",
   "metadata": {},
   "source": [
    "[Back to top](#Index)\n",
    "### 4.9 Initialization"
   ]
  },
  {
   "cell_type": "code",
   "execution_count": 1,
   "metadata": {},
   "outputs": [
    {
     "name": "stdout",
     "output_type": "stream",
     "text": [
      "Parameter containing:\n",
      "tensor([[ 0.3073, -0.0925,  0.9857,  0.7562,  0.2057, -0.7754],\n",
      "        [ 0.5230, -0.9721,  0.1838, -0.5425,  0.3205, -0.4688],\n",
      "        [-0.2986, -0.7612, -0.2281,  0.1667, -0.1656, -0.2899]],\n",
      "       requires_grad=True)\n"
     ]
    }
   ],
   "source": [
    "import torch.nn.init as init\n",
    "import torch.nn as nn\n",
    "\n",
    "layer = nn.Linear(6, 3)\n",
    "init.kaiming_uniform_(layer.weight)\n",
    "print(layer.weight)"
   ]
  },
  {
   "cell_type": "markdown",
   "metadata": {},
   "source": [
    "[Back to top](#Index)\n",
    "### 4.10 Normalization"
   ]
  },
  {
   "cell_type": "code",
   "execution_count": 2,
   "metadata": {},
   "outputs": [],
   "source": [
    "import torch.nn.init as init\n",
    "import torch.nn as nn\n",
    "\n",
    "model = nn.Sequential(\n",
    "    nn.Linear(9, 16),\n",
    "    nn.BatchNorm1d(16)\n",
    ")"
   ]
  },
  {
   "cell_type": "markdown",
   "metadata": {},
   "source": [
    "[Back to top](#Index)\n",
    "\n",
    "## 5. Objected Oriented Programming"
   ]
  },
  {
   "cell_type": "markdown",
   "metadata": {},
   "source": [
    "[Back to top](#Index)\n",
    "\n",
    "### 5.1 Dataset\n",
    "torch.utils -> data -> Dataset <br/>\n",
    "torch.utils -> data -> DataLoader <br/>"
   ]
  },
  {
   "cell_type": "code",
   "execution_count": null,
   "metadata": {},
   "outputs": [],
   "source": [
    "from torch.utils.data import Dataset\n",
    "import pandas as pd\n",
    "\n",
    "class WaterDataset(Dataset):\n",
    "    def __init__(self, csv_path):\n",
    "        # Make sure our WaterDataset behaves like Dataset in PyTorch framework\n",
    "        super().__init__()\n",
    "        df = pd.read_csv(csv_path)\n",
    "        self.data = df.to_numpy()\n",
    "\n",
    "    def __len__(self):\n",
    "        return self.data.shape[0]\n",
    "\n",
    "    def __getitem__(self, idx):\n",
    "        features = self.data[idx, :-1]\n",
    "        label = self.data[idx, -1]\n",
    "        return features, label"
   ]
  },
  {
   "cell_type": "code",
   "execution_count": null,
   "metadata": {},
   "outputs": [],
   "source": [
    "# Generate Customized Dataset\n",
    "dataset_train = WaterDataset(\"water_train.csv\")"
   ]
  },
  {
   "cell_type": "code",
   "execution_count": null,
   "metadata": {},
   "outputs": [],
   "source": [
    "# Create DataLoader\n",
    "from torch.utils.data import DataLoader\n",
    "\n",
    "dataloader_train = DataLoader(\n",
    "    dataset_train,\n",
    "    batch_size=2,\n",
    "    shuffle=True\n",
    ")"
   ]
  },
  {
   "cell_type": "code",
   "execution_count": null,
   "metadata": {},
   "outputs": [],
   "source": [
    "# Generate the data from the next iteration batch\n",
    "features, labels = next(iter(dataloader_train))\n",
    "print(features, labels)"
   ]
  },
  {
   "cell_type": "markdown",
   "metadata": {},
   "source": [
    "[Back to top](#Index)\n",
    "\n",
    "### 5.2 Model"
   ]
  },
  {
   "cell_type": "code",
   "execution_count": null,
   "metadata": {},
   "outputs": [],
   "source": [
    "import torch.nn as nn\n",
    "\n",
    "class Net(nn.Module):\n",
    "    def __init__(self):\n",
    "        super(Net, self).__init_()\n",
    "        self.fc1 = nn.Linear(9, 16)\n",
    "        self.fc2 = nn.Linear(16, 8)\n",
    "        self.fc3 = nn.Linear(8, 1)\n",
    "\n",
    "    def forward(self, x):\n",
    "        x = nn.functional.relu(self.fc1(x))\n",
    "        x = nn.functional.relu(self.fc2(x))\n",
    "        x = nn.functional.sigmoid(self.fc3(x))\n",
    "        return x"
   ]
  },
  {
   "cell_type": "code",
   "execution_count": null,
   "metadata": {},
   "outputs": [],
   "source": [
    "# Initiate an instance\n",
    "net = Net()"
   ]
  },
  {
   "cell_type": "markdown",
   "metadata": {},
   "source": [
    "[Back to top](#Index)\n",
    "\n",
    "## Conclusion"
   ]
  },
  {
   "cell_type": "markdown",
   "metadata": {},
   "source": [
    "\n",
    "[Back to top](#Index\n",
    ")\n",
    "## References\n",
    "\n",
    "https://www.datacamp.com"
   ]
  },
  {
   "cell_type": "code",
   "execution_count": null,
   "metadata": {},
   "outputs": [],
   "source": []
  }
 ],
 "metadata": {
  "kernelspec": {
   "display_name": "Python 3 (ipykernel)",
   "language": "python",
   "name": "python3"
  },
  "language_info": {
   "codemirror_mode": {
    "name": "ipython",
    "version": 3
   },
   "file_extension": ".py",
   "mimetype": "text/x-python",
   "name": "python",
   "nbconvert_exporter": "python",
   "pygments_lexer": "ipython3",
   "version": "3.8.18"
  }
 },
 "nbformat": 4,
 "nbformat_minor": 4
}
