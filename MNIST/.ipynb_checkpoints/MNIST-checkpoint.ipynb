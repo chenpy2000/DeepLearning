{
 "cells": [
  {
   "cell_type": "markdown",
   "id": "321d41d1",
   "metadata": {},
   "source": [
    "<h1>MNIST</h1>\n",
    "<h2>Author: Xavier Chen</h2>\n",
    "\n",
    "This notebook plays around traditional MNIST Dataset. The goal is to learn basic machine learning techniques."
   ]
  },
  {
   "cell_type": "markdown",
   "id": "ef977dbc",
   "metadata": {},
   "source": [
    "# Index\n",
    "- [Linear Optimization](#1.-Introduction)\n",
    "- [Linear Regression](#1.-Introduction)\n",
    "- [Convolutional Neural Network](#Convolutional-Neural-Network)"
   ]
  },
  {
   "cell_type": "code",
   "execution_count": null,
   "id": "716fbc38",
   "metadata": {},
   "outputs": [],
   "source": []
  },
  {
   "cell_type": "markdown",
   "id": "f52a9cf6",
   "metadata": {},
   "source": [
    "[Back to top](#Index)\n",
    "# Convolutional Neural Network"
   ]
  },
  {
   "cell_type": "code",
   "execution_count": 3,
   "id": "78fa3992",
   "metadata": {},
   "outputs": [],
   "source": [
    "import torch\n",
    "import torchvision ## Contains some utilities for working with the image data\n",
    "from torchvision.datasets import MNIST\n",
    "import matplotlib.pyplot as plt\n",
    "%matplotlib inline\n",
    "import torchvision.transforms as transforms\n",
    "from torch.utils.data import random_split\n",
    "from torch.utils.data import DataLoader\n",
    "import torch.nn.functional as F"
   ]
  },
  {
   "cell_type": "code",
   "execution_count": 4,
   "id": "8151ff00-cd97-4d22-906f-75cc584cfb70",
   "metadata": {},
   "outputs": [],
   "source": [
    "# Real Libraries used for this project\n",
    "from torchvision.datasets import MNIST\n",
    "import matplotlib.pyplot as plt\n",
    "# %matplotlib inline"
   ]
  },
  {
   "cell_type": "code",
   "execution_count": 5,
   "id": "5d75c973",
   "metadata": {},
   "outputs": [
    {
     "name": "stdout",
     "output_type": "stream",
     "text": [
      "Label: 0\n"
     ]
    },
    {
     "data": {
      "image/png": "[encoded data removed]",
      "text/plain": [
       "<Figure size 640x480 with 1 Axes>"
      ]
     },
     "metadata": {},
     "output_type": "display_data"
    }
   ],
   "source": [
    "dataset = MNIST(root = 'data/', download = True)\n",
    "image, label = dataset[667]\n",
    "plt.imshow(image, cmap = 'gray')\n",
    "print('Label:', label)"
   ]
  },
  {
   "cell_type": "code",
   "execution_count": 7,
   "id": "3489c991-da7b-4324-ac5c-7fca3ded22b2",
   "metadata": {},
   "outputs": [],
   "source": [
    "mnist_dataset = MNIST(root = 'data/', train = True, transform = transforms.ToTensor())"
   ]
  },
  {
   "cell_type": "code",
   "execution_count": 8,
   "id": "9bb3de32-0030-4ef1-bfea-27a1f1de9ca4",
   "metadata": {},
   "outputs": [
    {
     "name": "stdout",
     "output_type": "stream",
     "text": [
      "torch.Size([1, 28, 28]) 5\n"
     ]
    }
   ],
   "source": [
    "image_tensor, label = mnist_dataset[0]\n",
    "print(image_tensor.shape, label)"
   ]
  },
  {
   "cell_type": "code",
   "execution_count": 12,
   "id": "4ff4a947-fff2-4610-af64-c13e526a0452",
   "metadata": {},
   "outputs": [
    {
     "data": {
      "text/plain": [
       "<matplotlib.image.AxesImage at 0x22567c9b9d0>"
      ]
     },
     "execution_count": 12,
     "metadata": {},
     "output_type": "execute_result"
    },
    {
     "data": {
      "image/png": "[encoded data removed]",
      "text/plain": [
       "<Figure size 640x480 with 1 Axes>"
      ]
     },
     "metadata": {},
     "output_type": "display_data"
    }
   ],
   "source": [
    "## Plot the image of the tensor\n",
    "plt.imshow(image_tensor[0], cmap=\"gray\")"
   ]
  },
  {
   "cell_type": "code",
   "execution_count": 16,
   "id": "20fb58c3-216d-498e-a78f-cbf95e8d70b3",
   "metadata": {},
   "outputs": [],
   "source": [
    "train_data, validation_data = random_split(mnist_dataset, [50000, 10000])\n",
    "batch_size = 128\n",
    "train_loader = DataLoader(train_data, batch_size, shuffle = True)\n",
    "val_loader = DataLoader(validation_data, batch_size, shuffle = False)"
   ]
  },
  {
   "cell_type": "code",
   "execution_count": 19,
   "id": "6b624144-2f0f-437b-b305-a6c6fe762202",
   "metadata": {},
   "outputs": [
    {
     "name": "stdout",
     "output_type": "stream",
     "text": [
      "tensor([9, 8, 7, 5, 0, 8, 7, 4, 8, 7, 5, 6, 3, 7, 1, 5, 9, 9, 5, 6, 7, 0, 4, 8,\n",
      "        3, 7, 9, 9, 1, 9, 8, 0, 3, 1, 8, 2, 9, 4, 3, 0, 0, 8, 9, 1, 4, 2, 4, 4,\n",
      "        3, 9, 7, 2, 4, 0, 5, 9, 9, 3, 9, 2, 8, 3, 6, 6, 4, 1, 3, 1, 4, 0, 2, 4,\n",
      "        2, 0, 4, 2, 5, 7, 6, 7, 3, 4, 3, 8, 0, 8, 6, 2, 4, 7, 1, 8, 1, 6, 2, 1,\n",
      "        8, 3, 7, 4, 9, 4, 4, 3, 5, 8, 1, 4, 7, 3, 8, 2, 2, 9, 1, 1, 4, 2, 0, 1,\n",
      "        6, 5, 3, 8, 0, 1, 2, 1])\n",
      "torch.Size([128, 1, 28, 28])\n"
     ]
    },
    {
     "ename": "RuntimeError",
     "evalue": "mat1 and mat2 shapes cannot be multiplied (3584x28 and 784x10)",
     "output_type": "error",
     "traceback": [
      "\u001b[1;31m---------------------------------------------------------------------------\u001b[0m",
      "\u001b[1;31mRuntimeError\u001b[0m                              Traceback (most recent call last)",
      "Cell \u001b[1;32mIn[19], line 4\u001b[0m\n\u001b[0;32m      2\u001b[0m \u001b[38;5;28mprint\u001b[39m(labels)\n\u001b[0;32m      3\u001b[0m \u001b[38;5;28mprint\u001b[39m(images\u001b[38;5;241m.\u001b[39mshape)\n\u001b[1;32m----> 4\u001b[0m outputs \u001b[38;5;241m=\u001b[39m \u001b[43mmodel\u001b[49m\u001b[43m(\u001b[49m\u001b[43mimages\u001b[49m\u001b[43m)\u001b[49m\n\u001b[0;32m      5\u001b[0m \u001b[38;5;28;01mbreak\u001b[39;00m\n",
      "File \u001b[1;32m~\\anaconda3\\envs\\ml\\lib\\site-packages\\torch\\nn\\modules\\module.py:1511\u001b[0m, in \u001b[0;36mModule._wrapped_call_impl\u001b[1;34m(self, *args, **kwargs)\u001b[0m\n\u001b[0;32m   1509\u001b[0m     \u001b[38;5;28;01mreturn\u001b[39;00m \u001b[38;5;28mself\u001b[39m\u001b[38;5;241m.\u001b[39m_compiled_call_impl(\u001b[38;5;241m*\u001b[39margs, \u001b[38;5;241m*\u001b[39m\u001b[38;5;241m*\u001b[39mkwargs)  \u001b[38;5;66;03m# type: ignore[misc]\u001b[39;00m\n\u001b[0;32m   1510\u001b[0m \u001b[38;5;28;01melse\u001b[39;00m:\n\u001b[1;32m-> 1511\u001b[0m     \u001b[38;5;28;01mreturn\u001b[39;00m \u001b[38;5;28;43mself\u001b[39;49m\u001b[38;5;241;43m.\u001b[39;49m\u001b[43m_call_impl\u001b[49m\u001b[43m(\u001b[49m\u001b[38;5;241;43m*\u001b[39;49m\u001b[43margs\u001b[49m\u001b[43m,\u001b[49m\u001b[43m \u001b[49m\u001b[38;5;241;43m*\u001b[39;49m\u001b[38;5;241;43m*\u001b[39;49m\u001b[43mkwargs\u001b[49m\u001b[43m)\u001b[49m\n",
      "File \u001b[1;32m~\\anaconda3\\envs\\ml\\lib\\site-packages\\torch\\nn\\modules\\module.py:1520\u001b[0m, in \u001b[0;36mModule._call_impl\u001b[1;34m(self, *args, **kwargs)\u001b[0m\n\u001b[0;32m   1515\u001b[0m \u001b[38;5;66;03m# If we don't have any hooks, we want to skip the rest of the logic in\u001b[39;00m\n\u001b[0;32m   1516\u001b[0m \u001b[38;5;66;03m# this function, and just call forward.\u001b[39;00m\n\u001b[0;32m   1517\u001b[0m \u001b[38;5;28;01mif\u001b[39;00m \u001b[38;5;129;01mnot\u001b[39;00m (\u001b[38;5;28mself\u001b[39m\u001b[38;5;241m.\u001b[39m_backward_hooks \u001b[38;5;129;01mor\u001b[39;00m \u001b[38;5;28mself\u001b[39m\u001b[38;5;241m.\u001b[39m_backward_pre_hooks \u001b[38;5;129;01mor\u001b[39;00m \u001b[38;5;28mself\u001b[39m\u001b[38;5;241m.\u001b[39m_forward_hooks \u001b[38;5;129;01mor\u001b[39;00m \u001b[38;5;28mself\u001b[39m\u001b[38;5;241m.\u001b[39m_forward_pre_hooks\n\u001b[0;32m   1518\u001b[0m         \u001b[38;5;129;01mor\u001b[39;00m _global_backward_pre_hooks \u001b[38;5;129;01mor\u001b[39;00m _global_backward_hooks\n\u001b[0;32m   1519\u001b[0m         \u001b[38;5;129;01mor\u001b[39;00m _global_forward_hooks \u001b[38;5;129;01mor\u001b[39;00m _global_forward_pre_hooks):\n\u001b[1;32m-> 1520\u001b[0m     \u001b[38;5;28;01mreturn\u001b[39;00m \u001b[43mforward_call\u001b[49m\u001b[43m(\u001b[49m\u001b[38;5;241;43m*\u001b[39;49m\u001b[43margs\u001b[49m\u001b[43m,\u001b[49m\u001b[43m \u001b[49m\u001b[38;5;241;43m*\u001b[39;49m\u001b[38;5;241;43m*\u001b[39;49m\u001b[43mkwargs\u001b[49m\u001b[43m)\u001b[49m\n\u001b[0;32m   1522\u001b[0m \u001b[38;5;28;01mtry\u001b[39;00m:\n\u001b[0;32m   1523\u001b[0m     result \u001b[38;5;241m=\u001b[39m \u001b[38;5;28;01mNone\u001b[39;00m\n",
      "File \u001b[1;32m~\\anaconda3\\envs\\ml\\lib\\site-packages\\torch\\nn\\modules\\linear.py:116\u001b[0m, in \u001b[0;36mLinear.forward\u001b[1;34m(self, input)\u001b[0m\n\u001b[0;32m    115\u001b[0m \u001b[38;5;28;01mdef\u001b[39;00m \u001b[38;5;21mforward\u001b[39m(\u001b[38;5;28mself\u001b[39m, \u001b[38;5;28minput\u001b[39m: Tensor) \u001b[38;5;241m-\u001b[39m\u001b[38;5;241m>\u001b[39m Tensor:\n\u001b[1;32m--> 116\u001b[0m     \u001b[38;5;28;01mreturn\u001b[39;00m \u001b[43mF\u001b[49m\u001b[38;5;241;43m.\u001b[39;49m\u001b[43mlinear\u001b[49m\u001b[43m(\u001b[49m\u001b[38;5;28;43minput\u001b[39;49m\u001b[43m,\u001b[49m\u001b[43m \u001b[49m\u001b[38;5;28;43mself\u001b[39;49m\u001b[38;5;241;43m.\u001b[39;49m\u001b[43mweight\u001b[49m\u001b[43m,\u001b[49m\u001b[43m \u001b[49m\u001b[38;5;28;43mself\u001b[39;49m\u001b[38;5;241;43m.\u001b[39;49m\u001b[43mbias\u001b[49m\u001b[43m)\u001b[49m\n",
      "\u001b[1;31mRuntimeError\u001b[0m: mat1 and mat2 shapes cannot be multiplied (3584x28 and 784x10)"
     ]
    }
   ],
   "source": [
    "for images, labels in train_loader:\n",
    "    print(labels)\n",
    "    print(images.shape)\n",
    "    outputs = model(images)\n",
    "    break"
   ]
  },
  {
   "cell_type": "code",
   "execution_count": 18,
   "id": "a1fe9d1c-0a81-49fb-bfaa-a57695c9d17e",
   "metadata": {},
   "outputs": [
    {
     "name": "stdout",
     "output_type": "stream",
     "text": [
      "torch.Size([10, 784])\n",
      "Parameter containing:\n",
      "tensor([[ 0.0251,  0.0290,  0.0094,  ..., -0.0159,  0.0152, -0.0243],\n",
      "        [-0.0026, -0.0105, -0.0185,  ...,  0.0300,  0.0022,  0.0022],\n",
      "        [ 0.0297, -0.0015,  0.0146,  ...,  0.0051,  0.0339,  0.0115],\n",
      "        ...,\n",
      "        [ 0.0194, -0.0274, -0.0212,  ...,  0.0167,  0.0179, -0.0338],\n",
      "        [ 0.0260, -0.0230, -0.0122,  ..., -0.0103,  0.0333, -0.0001],\n",
      "        [ 0.0197,  0.0321, -0.0281,  ...,  0.0251,  0.0342,  0.0321]],\n",
      "       requires_grad=True)\n",
      "torch.Size([10])\n",
      "Parameter containing:\n",
      "tensor([ 2.7239e-02,  2.6863e-05, -2.8347e-02,  1.6962e-02,  5.9554e-03,\n",
      "        -1.2759e-02, -1.1525e-02, -1.4545e-02,  2.5856e-02, -2.1271e-02],\n",
      "       requires_grad=True)\n"
     ]
    }
   ],
   "source": [
    "import torch.nn as nn\n",
    "\n",
    "input_size = 28 * 28\n",
    "num_classes = 10\n",
    "\n",
    "## Logistic regression model\n",
    "model = nn.Linear(input_size, num_classes)\n",
    "print(model.weight.shape)\n",
    "print(model.weight)\n",
    "print(model.bias.shape)\n",
    "print(model.bias)"
   ]
  },
  {
   "cell_type": "code",
   "execution_count": 20,
   "id": "c09823f9-eac7-4464-95c6-5d95b4ba9f29",
   "metadata": {},
   "outputs": [
    {
     "name": "stdout",
     "output_type": "stream",
     "text": [
      "torch.Size([10, 784]) torch.Size([10])\n"
     ]
    },
    {
     "data": {
      "text/plain": [
       "[Parameter containing:\n",
       " tensor([[-0.0103, -0.0055,  0.0156,  ...,  0.0171, -0.0176, -0.0238],\n",
       "         [-0.0162,  0.0356,  0.0013,  ...,  0.0214,  0.0010, -0.0342],\n",
       "         [-0.0222,  0.0121, -0.0355,  ..., -0.0295, -0.0150, -0.0042],\n",
       "         ...,\n",
       "         [ 0.0184, -0.0030,  0.0222,  ..., -0.0020,  0.0299, -0.0309],\n",
       "         [-0.0282,  0.0159, -0.0356,  ..., -0.0018, -0.0291, -0.0171],\n",
       "         [-0.0357, -0.0352, -0.0101,  ..., -0.0137,  0.0219, -0.0298]],\n",
       "        requires_grad=True),\n",
       " Parameter containing:\n",
       " tensor([ 0.0238,  0.0183,  0.0118, -0.0301,  0.0311, -0.0333,  0.0037, -0.0060,\n",
       "          0.0315,  0.0137], requires_grad=True)]"
      ]
     },
     "execution_count": 20,
     "metadata": {},
     "output_type": "execute_result"
    }
   ],
   "source": [
    "class MnistModel(nn.Module):\n",
    "    def __init__(self):\n",
    "        super().__init__()\n",
    "        self.linear = nn.Linear(input_size, num_classes)\n",
    "        \n",
    "    def forward(self, xb):\n",
    "        xb = xb.reshape(-1, 784)\n",
    "        print(xb)\n",
    "        out = self.linear(xb)\n",
    "        print(out)\n",
    "        return(out)\n",
    "\n",
    "model = MnistModel()\n",
    "print(model.linear.weight.shape, model.linear.bias.shape)\n",
    "list(model.parameters())"
   ]
  },
  {
   "cell_type": "code",
   "execution_count": 21,
   "id": "060f66a1-5f41-492c-9871-00726e2ba2e2",
   "metadata": {},
   "outputs": [
    {
     "name": "stdout",
     "output_type": "stream",
     "text": [
      "tensor([[0., 0., 0.,  ..., 0., 0., 0.],\n",
      "        [0., 0., 0.,  ..., 0., 0., 0.],\n",
      "        [0., 0., 0.,  ..., 0., 0., 0.],\n",
      "        ...,\n",
      "        [0., 0., 0.,  ..., 0., 0., 0.],\n",
      "        [0., 0., 0.,  ..., 0., 0., 0.],\n",
      "        [0., 0., 0.,  ..., 0., 0., 0.]])\n",
      "tensor([[-1.9725e-03,  9.2306e-02, -5.4555e-01,  ...,  3.1138e-02,\n",
      "         -3.4769e-02, -2.6532e-01],\n",
      "        [ 2.2945e-01, -2.5121e-01, -4.0571e-01,  ...,  1.3362e-02,\n",
      "         -2.4854e-04,  6.9271e-02],\n",
      "        [ 2.3420e-01, -1.5129e-01, -2.9875e-01,  ..., -3.2540e-01,\n",
      "         -3.0122e-01, -1.2861e-01],\n",
      "        ...,\n",
      "        [-1.6313e-01,  1.9136e-01, -9.8385e-02,  ..., -2.0654e-01,\n",
      "         -7.2192e-02, -7.3702e-02],\n",
      "        [ 6.9491e-02, -1.9692e-01, -4.7558e-02,  ...,  6.5608e-02,\n",
      "         -2.0948e-01, -3.4700e-02],\n",
      "        [ 5.8747e-02, -1.1286e-04,  2.4362e-01,  ..., -1.1571e-01,\n",
      "         -1.7226e-01, -1.6975e-01]], grad_fn=<AddmmBackward0>)\n"
     ]
    }
   ],
   "source": [
    "for images, labels in train_loader:\n",
    "    outputs = model(images)\n",
    "    break"
   ]
  },
  {
   "cell_type": "code",
   "execution_count": 22,
   "id": "a2c9ed15-8bcf-403a-a9b0-48c4ad7ee477",
   "metadata": {},
   "outputs": [
    {
     "name": "stdout",
     "output_type": "stream",
     "text": [
      "Sample probabilities:\n",
      " tensor([[0.1100, 0.1209, 0.0639, 0.1170, 0.0683, 0.1124, 0.1028, 0.1137, 0.1065,\n",
      "         0.0845],\n",
      "        [0.1299, 0.0803, 0.0688, 0.1133, 0.0867, 0.1172, 0.0851, 0.1047, 0.1033,\n",
      "         0.1107]])\n",
      "\n",
      "\n",
      "Sum:  0.9999998211860657\n",
      "\n",
      "\n",
      "tensor([1, 0, 0, 3, 3, 3, 2, 3, 0, 0, 0, 0, 0, 6, 8, 0, 0, 3, 3, 3, 0, 0, 6, 3,\n",
      "        6, 3, 0, 0, 3, 0, 0, 3, 6, 0, 3, 5, 5, 3, 3, 7, 6, 0, 6, 6, 0, 3, 6, 9,\n",
      "        8, 0, 5, 6, 1, 6, 6, 3, 0, 0, 0, 0, 8, 6, 0, 6, 3, 0, 6, 0, 0, 8, 6, 3,\n",
      "        3, 0, 3, 3, 3, 3, 7, 6, 0, 6, 0, 0, 6, 3, 3, 9, 6, 0, 3, 0, 3, 0, 3, 6,\n",
      "        0, 0, 3, 3, 3, 3, 0, 0, 0, 3, 0, 3, 6, 0, 3, 3, 6, 0, 3, 0, 0, 3, 6, 1,\n",
      "        8, 0, 6, 9, 0, 1, 0, 2])\n",
      "\n",
      "\n",
      "tensor([0.1209, 0.1299, 0.1418, 0.1138, 0.1491, 0.1300, 0.1245, 0.1441, 0.1195,\n",
      "        0.1343, 0.1316, 0.1363, 0.1343, 0.1173, 0.1407, 0.1374, 0.1524, 0.1378,\n",
      "        0.1611, 0.1214, 0.1311, 0.1476, 0.1275, 0.1159, 0.1445, 0.1089, 0.1306,\n",
      "        0.1335, 0.1400, 0.1272, 0.1246, 0.1276, 0.1399, 0.1199, 0.1501, 0.1467,\n",
      "        0.1214, 0.1257, 0.1459, 0.1291, 0.1208, 0.1366, 0.1272, 0.1343, 0.1301,\n",
      "        0.1269, 0.1372, 0.1201, 0.1224, 0.1319, 0.1081, 0.1217, 0.1398, 0.1234,\n",
      "        0.1361, 0.1370, 0.1384, 0.1412, 0.1189, 0.1274, 0.1268, 0.1254, 0.1352,\n",
      "        0.1134, 0.1268, 0.1467, 0.1145, 0.1348, 0.1229, 0.1287, 0.1205, 0.1544,\n",
      "        0.1135, 0.1152, 0.1297, 0.1346, 0.1435, 0.1248, 0.1160, 0.1260, 0.1462,\n",
      "        0.1412, 0.1319, 0.1297, 0.1344, 0.1279, 0.1352, 0.1249, 0.1459, 0.1199,\n",
      "        0.1277, 0.1210, 0.1368, 0.1265, 0.1225, 0.1217, 0.1302, 0.1201, 0.1389,\n",
      "        0.1161, 0.1401, 0.1397, 0.1173, 0.1160, 0.1301, 0.1363, 0.1337, 0.1155,\n",
      "        0.1274, 0.1319, 0.1211, 0.1364, 0.1279, 0.1327, 0.1364, 0.1616, 0.1235,\n",
      "        0.1266, 0.1237, 0.1184, 0.1346, 0.1459, 0.1119, 0.1194, 0.1295, 0.1311,\n",
      "        0.1152, 0.1214], grad_fn=<MaxBackward0>)\n"
     ]
    }
   ],
   "source": [
    "## Apply softmax for each output row\n",
    "probs = F.softmax(outputs, dim = 1)\n",
    "\n",
    "## chaecking at sample probabilities\n",
    "print(\"Sample probabilities:\\n\", probs[:2].data)\n",
    "\n",
    "print(\"\\n\")\n",
    "## Add up the probabilities of an output row\n",
    "print(\"Sum: \", torch.sum(probs[0]).item())\n",
    "max_probs, preds = torch.max(probs, dim = 1)\n",
    "print(\"\\n\")\n",
    "print(preds)\n",
    "print(\"\\n\")\n",
    "print(max_probs)"
   ]
  },
  {
   "cell_type": "code",
   "execution_count": 23,
   "id": "efeb8a3e-8899-43b1-a323-37a6f26dbaed",
   "metadata": {},
   "outputs": [
    {
     "name": "stdout",
     "output_type": "stream",
     "text": [
      "Accuracy:  tensor(0.1719)\n",
      "\n",
      "\n",
      "Loss Function:  <function cross_entropy at 0x000002255E560310>\n",
      "\n",
      "\n",
      "tensor(2.3133, grad_fn=<NllLossBackward0>)\n"
     ]
    }
   ],
   "source": [
    "def accuracy(outputs, labels):\n",
    "    _, preds = torch.max(outputs, dim = 1)\n",
    "    return(torch.tensor(torch.sum(preds == labels).item()/ len(preds)))\n",
    "\n",
    "print(\"Accuracy: \",accuracy(outputs, labels))\n",
    "print(\"\\n\")\n",
    "loss_fn = F.cross_entropy\n",
    "print(\"Loss Function: \",loss_fn)\n",
    "print(\"\\n\")\n",
    "## Loss for the current batch\n",
    "loss = loss_fn(outputs, labels)\n",
    "print(loss)"
   ]
  },
  {
   "cell_type": "code",
   "execution_count": 24,
   "id": "33dd8e00-56c0-4c97-bf62-72bb5dea9d49",
   "metadata": {},
   "outputs": [],
   "source": [
    "class MnistModel(nn.Module):\n",
    "    def __init__(self):\n",
    "        super().__init__()\n",
    "        self.linear = nn.Linear(input_size, num_classes)\n",
    "    \n",
    "    def forward(self, xb):\n",
    "        xb = xb.reshape(-1, 784)\n",
    "        out = self.linear(xb)\n",
    "        return(out)\n",
    "    \n",
    "    def training_step(self, batch):\n",
    "        images, labels = batch\n",
    "        out = self(images) ## Generate predictions\n",
    "        loss = F.cross_entropy(out, labels) ## Calculate the loss\n",
    "        return(loss)\n",
    "    \n",
    "    def validation_step(self, batch):\n",
    "        images, labels = batch\n",
    "        out = self(images)\n",
    "        loss = F.cross_entropy(out, labels)\n",
    "        acc = accuracy(out, labels)\n",
    "        return({'val_loss':loss, 'val_acc': acc})\n",
    "    \n",
    "    def validation_epoch_end(self, outputs):\n",
    "        batch_losses = [x['val_loss'] for x in outputs]\n",
    "        epoch_loss = torch.stack(batch_losses).mean()\n",
    "        batch_accs = [x['val_acc'] for x in outputs]\n",
    "        epoch_acc = torch.stack(batch_accs).mean()\n",
    "        return({'val_loss': epoch_loss.item(), 'val_acc' : epoch_acc.item()})\n",
    "    \n",
    "    def epoch_end(self, epoch,result):\n",
    "        print(\"Epoch [{}], val_loss: {:.4f}, val_acc: {:.4f}\".format(epoch, result['val_loss'], result['val_acc']))\n",
    "        \n",
    "    \n",
    "model = MnistModel()"
   ]
  },
  {
   "cell_type": "code",
   "execution_count": 25,
   "id": "412ffe68-9219-4712-94bb-77b2f42b880c",
   "metadata": {},
   "outputs": [],
   "source": [
    "def evaluate(model, val_loader):\n",
    "    outputs = [model.validation_step(batch) for batch in val_loader]\n",
    "    return(model.validation_epoch_end(outputs))\n",
    "\n",
    "def fit(epochs, lr, model, train_loader, val_loader, opt_func = torch.optim.SGD):\n",
    "    history = []\n",
    "    optimizer = opt_func(model.parameters(), lr)\n",
    "    for epoch in range(epochs):\n",
    "        \n",
    "        ## Training Phas\n",
    "        for batch in train_loader:\n",
    "            loss = model.training_step(batch)\n",
    "            loss.backward()\n",
    "            optimizer.step()\n",
    "            optimizer.zero_grad()\n",
    "        \n",
    "        ## Validation phase\n",
    "        result = evaluate(model, val_loader)\n",
    "        model.epoch_end(epoch, result)\n",
    "        history.append(result)\n",
    "    return(history)"
   ]
  },
  {
   "cell_type": "code",
   "execution_count": 26,
   "id": "d590c688-30c7-4162-990b-88d9660abba1",
   "metadata": {},
   "outputs": [
    {
     "data": {
      "text/plain": [
       "{'val_loss': 2.345364809036255, 'val_acc': 0.06170886009931564}"
      ]
     },
     "execution_count": 26,
     "metadata": {},
     "output_type": "execute_result"
    }
   ],
   "source": [
    "result0 = evaluate(model, val_loader)\n",
    "result0"
   ]
  },
  {
   "cell_type": "code",
   "execution_count": 27,
   "id": "09efce41-8ec8-46e3-bcbc-41a19a92accd",
   "metadata": {},
   "outputs": [
    {
     "name": "stdout",
     "output_type": "stream",
     "text": [
      "Epoch [0], val_loss: 1.9763, val_acc: 0.5673\n",
      "Epoch [1], val_loss: 1.7046, val_acc: 0.7136\n",
      "Epoch [2], val_loss: 1.5008, val_acc: 0.7531\n",
      "Epoch [3], val_loss: 1.3466, val_acc: 0.7742\n",
      "Epoch [4], val_loss: 1.2282, val_acc: 0.7899\n"
     ]
    }
   ],
   "source": [
    "history1 = fit(5, 0.001, model, train_loader, val_loader)"
   ]
  },
  {
   "cell_type": "code",
   "execution_count": 28,
   "id": "2e04ccd8-4c11-47a9-81a6-19d9c40fe7cf",
   "metadata": {},
   "outputs": [
    {
     "name": "stdout",
     "output_type": "stream",
     "text": [
      "Epoch [0], val_loss: 1.1351, val_acc: 0.7992\n",
      "Epoch [1], val_loss: 1.0607, val_acc: 0.8067\n",
      "Epoch [2], val_loss: 0.9999, val_acc: 0.8132\n",
      "Epoch [3], val_loss: 0.9493, val_acc: 0.8178\n",
      "Epoch [4], val_loss: 0.9066, val_acc: 0.8228\n",
      "Epoch [0], val_loss: 0.8700, val_acc: 0.8266\n",
      "Epoch [1], val_loss: 0.8384, val_acc: 0.8288\n",
      "Epoch [2], val_loss: 0.8107, val_acc: 0.8315\n",
      "Epoch [3], val_loss: 0.7862, val_acc: 0.8343\n",
      "Epoch [4], val_loss: 0.7645, val_acc: 0.8374\n",
      "Epoch [0], val_loss: 0.7449, val_acc: 0.8402\n",
      "Epoch [1], val_loss: 0.7273, val_acc: 0.8422\n",
      "Epoch [2], val_loss: 0.7114, val_acc: 0.8437\n",
      "Epoch [3], val_loss: 0.6968, val_acc: 0.8451\n",
      "Epoch [4], val_loss: 0.6834, val_acc: 0.8469\n"
     ]
    }
   ],
   "source": [
    "history2 = fit(5, 0.001, model, train_loader, val_loader)\n",
    "history3 = fit(5, 0.001, model, train_loader, val_loader)\n",
    "history4 = fit(5, 0.001, model, train_loader, val_loader)"
   ]
  },
  {
   "cell_type": "code",
   "execution_count": 29,
   "id": "d2faf775-e4da-4e81-aec4-93c28166df26",
   "metadata": {},
   "outputs": [
    {
     "data": {
      "text/plain": [
       "Text(0.5, 1.0, 'Accuracy Vs. No. of epochs')"
      ]
     },
     "execution_count": 29,
     "metadata": {},
     "output_type": "execute_result"
    },
    {
     "data": {
      "image/png": "[encoded data removed]",
      "text/plain": [
       "<Figure size 640x480 with 1 Axes>"
      ]
     },
     "metadata": {},
     "output_type": "display_data"
    }
   ],
   "source": [
    "## Replace these values with your result\n",
    "history = [result0] + history1 + history2 + history3 + history4\n",
    "accuracies = [result['val_acc'] for result in history]\n",
    "plt.plot(accuracies, '-x')\n",
    "plt.xlabel('epoch')\n",
    "plt.ylabel('accuracy')\n",
    "plt.title('Accuracy Vs. No. of epochs')"
   ]
  },
  {
   "cell_type": "code",
   "execution_count": 30,
   "id": "73c57713-2fea-45ad-9ed7-920fdba8957f",
   "metadata": {},
   "outputs": [
    {
     "name": "stdout",
     "output_type": "stream",
     "text": [
      "shape:  torch.Size([1, 28, 28])\n",
      "Label:  7\n"
     ]
    },
    {
     "data": {
      "image/png": "[encoded data removed]",
      "text/plain": [
       "<Figure size 640x480 with 1 Axes>"
      ]
     },
     "metadata": {},
     "output_type": "display_data"
    }
   ],
   "source": [
    "## Define the test dataset\n",
    "test_dataset = MNIST(root = 'data/', train = False, transform = transforms.ToTensor())\n",
    "img, label = test_dataset[0]\n",
    "plt.imshow(img[0], cmap = 'gray')\n",
    "print(\"shape: \", img.shape)\n",
    "print('Label: ', label)"
   ]
  },
  {
   "cell_type": "code",
   "execution_count": 31,
   "id": "c2c91269-ec58-48d8-b11c-e99a655ab53f",
   "metadata": {},
   "outputs": [],
   "source": [
    "def predict_image(img, model):\n",
    "    xb = img.unsqueeze(0)\n",
    "    yb = model(xb)\n",
    "    _, preds = torch.max(yb, dim = 1)\n",
    "    return(preds[0].item())"
   ]
  },
  {
   "cell_type": "code",
   "execution_count": 32,
   "id": "a427f246-d479-4400-9d8f-ce222fad083c",
   "metadata": {},
   "outputs": [
    {
     "name": "stdout",
     "output_type": "stream",
     "text": [
      "Label: 7 , Predicted : 7\n"
     ]
    },
    {
     "data": {
      "image/png": "[encoded data removed]",
      "text/plain": [
       "<Figure size 640x480 with 1 Axes>"
      ]
     },
     "metadata": {},
     "output_type": "display_data"
    }
   ],
   "source": [
    "img, label = test_dataset[0]\n",
    "plt.imshow(img[0], cmap = 'gray')\n",
    "print('Label:', label, ', Predicted :', predict_image(img, model))"
   ]
  },
  {
   "cell_type": "code",
   "execution_count": 33,
   "id": "eb3c9089-062d-414a-a3c2-b95cc676120a",
   "metadata": {},
   "outputs": [
    {
     "data": {
      "text/plain": [
       "{'val_loss': 0.6426597833633423, 'val_acc': 0.861621081829071}"
      ]
     },
     "execution_count": 33,
     "metadata": {},
     "output_type": "execute_result"
    }
   ],
   "source": [
    "test_loader = DataLoader(test_dataset, batch_size = 256)\n",
    "result = evaluate(model, test_loader)\n",
    "result"
   ]
  },
  {
   "cell_type": "code",
   "execution_count": 34,
   "id": "05261649-8c0f-4414-84e4-c9d771841d93",
   "metadata": {},
   "outputs": [],
   "source": [
    "torch.save(model.state_dict(), 'mnist-logistic.pth')"
   ]
  },
  {
   "cell_type": "code",
   "execution_count": 35,
   "id": "525a43a1-aaef-4412-a286-af27e2a2c130",
   "metadata": {},
   "outputs": [
    {
     "data": {
      "text/plain": [
       "{'val_loss': 0.6426597833633423, 'val_acc': 0.861621081829071}"
      ]
     },
     "execution_count": 35,
     "metadata": {},
     "output_type": "execute_result"
    }
   ],
   "source": [
    "model2 = MnistModel()\n",
    "model2.load_state_dict(torch.load('mnist-logistic.pth'))\n",
    "model2.state_dict()\n",
    "test_loader = DataLoader(test_dataset, batch_size = 256)\n",
    "result = evaluate(model2, test_loader)\n",
    "result"
   ]
  },
  {
   "cell_type": "code",
   "execution_count": null,
   "id": "c9b08a4d-8ed9-4823-a9d0-253ae311a8ab",
   "metadata": {},
   "outputs": [],
   "source": []
  }
 ],
 "metadata": {
  "kernelspec": {
   "display_name": "Python 3 (ipykernel)",
   "language": "python",
   "name": "python3"
  },
  "language_info": {
   "codemirror_mode": {
    "name": "ipython",
    "version": 3
   },
   "file_extension": ".py",
   "mimetype": "text/x-python",
   "name": "python",
   "nbconvert_exporter": "python",
   "pygments_lexer": "ipython3",
   "version": "3.8.18"
  }
 },
 "nbformat": 4,
 "nbformat_minor": 5
}
