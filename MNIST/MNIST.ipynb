{
 "cells": [
  {
   "cell_type": "markdown",
   "id": "321d41d1",
   "metadata": {},
   "source": [
    "<h1>MNIST</h1>\n",
    "<h2>Author: Xavier Chen</h2>\n",
    "\n",
    "This notebook plays around traditional MNIST Dataset. The goal is to learn basic machine learning techniques."
   ]
  },
  {
   "cell_type": "markdown",
   "id": "ef977dbc",
   "metadata": {},
   "source": [
    "# Index\n",
    "- [Linear Optimization](#1.-Introduction)\n",
    "- [Linear Regression](#1.-Introduction)\n",
    "- [Convolutional Neural Network](#Convolutional-Neural-Network)"
   ]
  },
  {
   "cell_type": "code",
   "execution_count": null,
   "id": "716fbc38",
   "metadata": {},
   "outputs": [],
   "source": []
  },
  {
   "cell_type": "markdown",
   "id": "6348d03f-195e-4662-b705-6a9831e639a6",
   "metadata": {},
   "source": [
    "# Linear Models"
   ]
  },
  {
   "cell_type": "code",
   "execution_count": 1,
   "id": "a6e9f892-8da2-4140-8b8b-4ab3eafc0e50",
   "metadata": {},
   "outputs": [],
   "source": [
    "###\n",
    "import torch\n",
    "from torch import nn\n",
    "from torch.utils.data import DataLoader\n",
    "from torchvision.datasets import MNIST\n",
    "from torchvision.transforms import ToTensor"
   ]
  },
  {
   "cell_type": "code",
   "execution_count": 2,
   "id": "96f47451-d8e5-4e46-89eb-9100c535781c",
   "metadata": {},
   "outputs": [],
   "source": [
    "train_data = MNIST(\n",
    "    root = \"data\",\n",
    "    train = True,\n",
    "    download = True,\n",
    "    transform = ToTensor(),\n",
    ")\n",
    "\n",
    "test_data = MNIST(\n",
    "    root = \"data\",\n",
    "    train = False,\n",
    "    download = True,\n",
    "    transform = ToTensor(),\n",
    ")"
   ]
  },
  {
   "cell_type": "code",
   "execution_count": 6,
   "id": "0fb51de1-c4a5-4796-934b-0e467878e7b2",
   "metadata": {},
   "outputs": [],
   "source": [
    "batch_size = 64\n",
    "lr = 1e-3\n",
    "train_loader = DataLoader(train_data, batch_size = batch_size)\n",
    "test_loader = DataLoader(test_data, batch_size = batch_size)"
   ]
  },
  {
   "cell_type": "code",
   "execution_count": 4,
   "id": "bc75785f-aa28-4501-8d10-583886cfb6be",
   "metadata": {},
   "outputs": [],
   "source": [
    "device = (\n",
    "    \"cuda\"\n",
    "    if torch.cuda.is_available()\n",
    "    else \"cpu\"\n",
    ")\n",
    "\n",
    "class Model(nn.Module):\n",
    "    def __init__(self):\n",
    "        super().__init__()\n",
    "        self.flatten = nn.Flatten()\n",
    "        self.network = nn.Sequential(\n",
    "            nn.Linear(28*28, 128),\n",
    "            nn.ReLU(),\n",
    "            nn.Linear(128, 10)\n",
    "        )\n",
    "\n",
    "    def forward(self, x):\n",
    "        x = self.flatten(x)\n",
    "        x = self.network(x)\n",
    "        return x\n",
    "\n",
    "model = Model().to(device)"
   ]
  },
  {
   "cell_type": "code",
   "execution_count": 7,
   "id": "df25f81b-6f1f-4e52-82f6-c3f928b2454f",
   "metadata": {},
   "outputs": [],
   "source": [
    "loss_fn = nn.CrossEntropyLoss()\n",
    "optimizer = torch.optim.SGD(model.parameters(), lr=lr)"
   ]
  },
  {
   "cell_type": "code",
   "execution_count": 10,
   "id": "3e8bde80-4205-45cb-8025-4f3a67988481",
   "metadata": {},
   "outputs": [],
   "source": [
    "def train(dataloader, model, loss_fn, optimizer):\n",
    "    size = len(dataloader.dataset)\n",
    "    model.train()\n",
    "    for batch, (X, y) in enumerate(dataloader):\n",
    "        X, y = X.to(device), y.to(device)\n",
    "\n",
    "        pred = model(X)\n",
    "        loss = loss_fn(pred, y)\n",
    "    \n",
    "        loss.backward()\n",
    "        optimizer.step()\n",
    "        optimizer.zero_grad()\n",
    "    \n",
    "        if batch % 100 == 0:\n",
    "            loss, current = loss.item(), (batch+1) * len(X)\n",
    "            print(f\"loss: {loss:>7f}[{current:>5d}/{size:>5d}]\")"
   ]
  },
  {
   "cell_type": "code",
   "execution_count": 11,
   "id": "fbf0e6f6-cc15-4b40-a13e-3112f56f346e",
   "metadata": {},
   "outputs": [
    {
     "name": "stdout",
     "output_type": "stream",
     "text": [
      "Epoch 1 \n",
      " ---------------------\n",
      "loss: 2.310675[   64/60000]\n",
      "loss: 2.275223[ 6464/60000]\n",
      "loss: 2.275768[12864/60000]\n",
      "loss: 2.255721[19264/60000]\n",
      "loss: 2.256931[25664/60000]\n",
      "loss: 2.240471[32064/60000]\n",
      "loss: 2.199592[38464/60000]\n",
      "loss: 2.214010[44864/60000]\n",
      "loss: 2.178637[51264/60000]\n",
      "loss: 2.150382[57664/60000]\n",
      "Epoch 2 \n",
      " ---------------------\n",
      "loss: 2.140564[   64/60000]\n",
      "loss: 2.099251[ 6464/60000]\n",
      "loss: 2.128566[12864/60000]\n",
      "loss: 2.039734[19264/60000]\n",
      "loss: 2.061405[25664/60000]\n",
      "loss: 2.046705[32064/60000]\n",
      "loss: 1.978005[38464/60000]\n",
      "loss: 2.043332[44864/60000]\n",
      "loss: 1.950029[51264/60000]\n",
      "loss: 1.907637[57664/60000]\n",
      "Epoch 3 \n",
      " ---------------------\n",
      "loss: 1.901038[   64/60000]\n",
      "loss: 1.841756[ 6464/60000]\n",
      "loss: 1.904348[12864/60000]\n",
      "loss: 1.749574[19264/60000]\n",
      "loss: 1.785492[25664/60000]\n",
      "loss: 1.773315[32064/60000]\n",
      "loss: 1.677769[38464/60000]\n",
      "loss: 1.796434[44864/60000]\n",
      "loss: 1.654277[51264/60000]\n",
      "loss: 1.609735[57664/60000]\n",
      "Epoch 4 \n",
      " ---------------------\n",
      "loss: 1.603702[   64/60000]\n",
      "loss: 1.520485[ 6464/60000]\n",
      "loss: 1.615887[12864/60000]\n",
      "loss: 1.427297[19264/60000]\n",
      "loss: 1.463253[25664/60000]\n",
      "loss: 1.461406[32064/60000]\n",
      "loss: 1.356818[38464/60000]\n",
      "loss: 1.520541[44864/60000]\n",
      "loss: 1.358223[51264/60000]\n",
      "loss: 1.317822[57664/60000]\n",
      "Epoch 5 \n",
      " ---------------------\n",
      "loss: 1.319214[   64/60000]\n",
      "loss: 1.214802[ 6464/60000]\n",
      "loss: 1.323684[12864/60000]\n",
      "loss: 1.151055[19264/60000]\n",
      "loss: 1.172390[25664/60000]\n",
      "loss: 1.185434[32064/60000]\n",
      "loss: 1.087639[38464/60000]\n",
      "loss: 1.275412[44864/60000]\n",
      "loss: 1.124843[51264/60000]\n",
      "loss: 1.089060[57664/60000]\n"
     ]
    }
   ],
   "source": [
    "epochs = 5\n",
    "for epoch in range(epochs):\n",
    "    print(f\"Epoch {epoch+1} \\n ---------------------\")\n",
    "    train(train_loader, model, loss_fn, optimizer)"
   ]
  },
  {
   "cell_type": "markdown",
   "id": "f52a9cf6",
   "metadata": {},
   "source": [
    "# Convolutional Neural Network\n",
    "[Back to top](#Index)"
   ]
  },
  {
   "cell_type": "markdown",
   "id": "5d425994-5d83-4b30-968c-791ed0bb22a4",
   "metadata": {},
   "source": [
    "## 1 import necessary libraries"
   ]
  },
  {
   "cell_type": "code",
   "execution_count": 10,
   "id": "78fa3992",
   "metadata": {},
   "outputs": [],
   "source": [
    "##################################################\n",
    "# Libraries for Recovery\n",
    "##################################################\n",
    "\n",
    "import torch\n",
    "import torchvision ## Contains some utilities for working with the image data\n",
    "from torchvision.datasets import MNIST\n",
    "import matplotlib.pyplot as plt\n",
    "%matplotlib inline\n",
    "import torchvision.transforms as transforms\n",
    "from torch.utils.data import random_split\n",
    "from torch.utils.data import DataLoader\n",
    "import torch.nn.functional as F"
   ]
  },
  {
   "cell_type": "markdown",
   "id": "b6f4a5cf-e935-4689-8289-b3cc20fd5b5c",
   "metadata": {},
   "source": [
    "## 2 Load dataset"
   ]
  },
  {
   "cell_type": "code",
   "execution_count": 11,
   "id": "5d75c973",
   "metadata": {},
   "outputs": [
    {
     "name": "stdout",
     "output_type": "stream",
     "text": [
      "Label: 0\n"
     ]
    },
    {
     "data": {
      "image/png": "[encoded data removed]",
      "text/plain": [
       "<Figure size 640x480 with 1 Axes>"
      ]
     },
     "metadata": {},
     "output_type": "display_data"
    }
   ],
   "source": [
    "dataset = MNIST(root = 'data/', download = True)\n",
    "image, label = dataset[667]\n",
    "plt.imshow(image, cmap = 'gray') # Type : PIL.Image.Image\n",
    "print('Label:', label)"
   ]
  },
  {
   "cell_type": "code",
   "execution_count": 12,
   "id": "3489c991-da7b-4324-ac5c-7fca3ded22b2",
   "metadata": {},
   "outputs": [
    {
     "name": "stdout",
     "output_type": "stream",
     "text": [
      "torch.Size([1, 28, 28]) 5\n"
     ]
    },
    {
     "data": {
      "text/plain": [
       "<matplotlib.image.AxesImage at 0x216b290f280>"
      ]
     },
     "execution_count": 12,
     "metadata": {},
     "output_type": "execute_result"
    },
    {
     "data": {
      "image/png": "[encoded data removed]",
      "text/plain": [
       "<Figure size 640x480 with 1 Axes>"
      ]
     },
     "metadata": {},
     "output_type": "display_data"
    }
   ],
   "source": [
    "mnist_dataset = MNIST(root = 'data/', train = True, transform = transforms.ToTensor())\n",
    "image_tensor, label = mnist_dataset[0]\n",
    "print(image_tensor.shape, label)\n",
    "plt.imshow(image_tensor[0], cmap=\"gray\")"
   ]
  },
  {
   "cell_type": "code",
   "execution_count": 13,
   "id": "35d1ff6a-475f-45f3-a7c8-685e9388eeef",
   "metadata": {},
   "outputs": [],
   "source": [
    "train_data, validation_data = random_split(mnist_dataset, [50000, 10000])\n",
    "batch_size = 128\n",
    "train_loader = DataLoader(train_data, batch_size, shuffle = True)\n",
    "val_loader = DataLoader(validation_data, batch_size, shuffle = False)"
   ]
  },
  {
   "cell_type": "code",
   "execution_count": 14,
   "id": "a1fe9d1c-0a81-49fb-bfaa-a57695c9d17e",
   "metadata": {},
   "outputs": [
    {
     "name": "stdout",
     "output_type": "stream",
     "text": [
      "torch.Size([10, 784])\n",
      "Parameter containing:\n",
      "tensor([[-0.0163, -0.0282,  0.0225,  ...,  0.0306, -0.0216,  0.0292],\n",
      "        [-0.0215, -0.0303, -0.0103,  ...,  0.0190, -0.0312, -0.0018],\n",
      "        [ 0.0057,  0.0233,  0.0299,  ..., -0.0010, -0.0278, -0.0233],\n",
      "        ...,\n",
      "        [-0.0005, -0.0130,  0.0241,  ...,  0.0354, -0.0220, -0.0307],\n",
      "        [-0.0023, -0.0282,  0.0230,  ...,  0.0085,  0.0331, -0.0210],\n",
      "        [-0.0324, -0.0235, -0.0160,  ..., -0.0273,  0.0167,  0.0133]],\n",
      "       requires_grad=True)\n",
      "torch.Size([10])\n",
      "Parameter containing:\n",
      "tensor([-0.0139, -0.0252,  0.0346, -0.0137,  0.0043,  0.0082, -0.0239, -0.0296,\n",
      "        -0.0286, -0.0135], requires_grad=True)\n"
     ]
    }
   ],
   "source": [
    "import torch.nn as nn\n",
    "\n",
    "input_size = 28 * 28\n",
    "num_classes = 10\n",
    "\n",
    "## Logistic regression model\n",
    "model = nn.Linear(input_size, num_classes)\n",
    "print(model.weight.shape)\n",
    "print(model.weight)\n",
    "print(model.bias.shape)\n",
    "print(model.bias)"
   ]
  },
  {
   "cell_type": "code",
   "execution_count": 40,
   "id": "6b624144-2f0f-437b-b305-a6c6fe762202",
   "metadata": {},
   "outputs": [
    {
     "name": "stdout",
     "output_type": "stream",
     "text": [
      "tensor([2, 8, 2, 8, 7, 3, 8, 8, 1, 5, 8, 3, 6, 5, 9, 6, 0, 5, 6, 9, 6, 5, 0, 3,\n",
      "        3, 3, 6, 8, 0, 6, 2, 4, 2, 9, 1, 8, 4, 7, 1, 7, 6, 9, 9, 3, 3, 2, 6, 1,\n",
      "        7, 7, 5, 2, 6, 4, 9, 6, 3, 5, 3, 2, 2, 9, 7, 2, 8, 5, 7, 8, 6, 1, 3, 1,\n",
      "        4, 6, 4, 7, 5, 1, 9, 8, 7, 9, 2, 1, 5, 8, 0, 4, 5, 7, 9, 1, 9, 5, 1, 1,\n",
      "        5, 0, 7, 5, 6, 8, 0, 3, 4, 1, 1, 2, 1, 4, 3, 9, 1, 6, 2, 4, 4, 1, 4, 4,\n",
      "        8, 1, 2, 6, 3, 3, 9, 0])\n",
      "torch.Size([128, 1, 28, 28])\n"
     ]
    },
    {
     "ename": "RuntimeError",
     "evalue": "mat1 and mat2 shapes cannot be multiplied (3584x28 and 784x10)",
     "output_type": "error",
     "traceback": [
      "\u001b[1;31m---------------------------------------------------------------------------\u001b[0m",
      "\u001b[1;31mRuntimeError\u001b[0m                              Traceback (most recent call last)",
      "Cell \u001b[1;32mIn[40], line 4\u001b[0m\n\u001b[0;32m      2\u001b[0m \u001b[38;5;28mprint\u001b[39m(labels)\n\u001b[0;32m      3\u001b[0m \u001b[38;5;28mprint\u001b[39m(images\u001b[38;5;241m.\u001b[39mshape)\n\u001b[1;32m----> 4\u001b[0m outputs \u001b[38;5;241m=\u001b[39m \u001b[43mmodel\u001b[49m\u001b[43m(\u001b[49m\u001b[43mimages\u001b[49m\u001b[43m)\u001b[49m\n\u001b[0;32m      5\u001b[0m \u001b[38;5;28;01mbreak\u001b[39;00m\n",
      "File \u001b[1;32m~\\anaconda3\\envs\\ml\\lib\\site-packages\\torch\\nn\\modules\\module.py:1511\u001b[0m, in \u001b[0;36mModule._wrapped_call_impl\u001b[1;34m(self, *args, **kwargs)\u001b[0m\n\u001b[0;32m   1509\u001b[0m     \u001b[38;5;28;01mreturn\u001b[39;00m \u001b[38;5;28mself\u001b[39m\u001b[38;5;241m.\u001b[39m_compiled_call_impl(\u001b[38;5;241m*\u001b[39margs, \u001b[38;5;241m*\u001b[39m\u001b[38;5;241m*\u001b[39mkwargs)  \u001b[38;5;66;03m# type: ignore[misc]\u001b[39;00m\n\u001b[0;32m   1510\u001b[0m \u001b[38;5;28;01melse\u001b[39;00m:\n\u001b[1;32m-> 1511\u001b[0m     \u001b[38;5;28;01mreturn\u001b[39;00m \u001b[38;5;28;43mself\u001b[39;49m\u001b[38;5;241;43m.\u001b[39;49m\u001b[43m_call_impl\u001b[49m\u001b[43m(\u001b[49m\u001b[38;5;241;43m*\u001b[39;49m\u001b[43margs\u001b[49m\u001b[43m,\u001b[49m\u001b[43m \u001b[49m\u001b[38;5;241;43m*\u001b[39;49m\u001b[38;5;241;43m*\u001b[39;49m\u001b[43mkwargs\u001b[49m\u001b[43m)\u001b[49m\n",
      "File \u001b[1;32m~\\anaconda3\\envs\\ml\\lib\\site-packages\\torch\\nn\\modules\\module.py:1520\u001b[0m, in \u001b[0;36mModule._call_impl\u001b[1;34m(self, *args, **kwargs)\u001b[0m\n\u001b[0;32m   1515\u001b[0m \u001b[38;5;66;03m# If we don't have any hooks, we want to skip the rest of the logic in\u001b[39;00m\n\u001b[0;32m   1516\u001b[0m \u001b[38;5;66;03m# this function, and just call forward.\u001b[39;00m\n\u001b[0;32m   1517\u001b[0m \u001b[38;5;28;01mif\u001b[39;00m \u001b[38;5;129;01mnot\u001b[39;00m (\u001b[38;5;28mself\u001b[39m\u001b[38;5;241m.\u001b[39m_backward_hooks \u001b[38;5;129;01mor\u001b[39;00m \u001b[38;5;28mself\u001b[39m\u001b[38;5;241m.\u001b[39m_backward_pre_hooks \u001b[38;5;129;01mor\u001b[39;00m \u001b[38;5;28mself\u001b[39m\u001b[38;5;241m.\u001b[39m_forward_hooks \u001b[38;5;129;01mor\u001b[39;00m \u001b[38;5;28mself\u001b[39m\u001b[38;5;241m.\u001b[39m_forward_pre_hooks\n\u001b[0;32m   1518\u001b[0m         \u001b[38;5;129;01mor\u001b[39;00m _global_backward_pre_hooks \u001b[38;5;129;01mor\u001b[39;00m _global_backward_hooks\n\u001b[0;32m   1519\u001b[0m         \u001b[38;5;129;01mor\u001b[39;00m _global_forward_hooks \u001b[38;5;129;01mor\u001b[39;00m _global_forward_pre_hooks):\n\u001b[1;32m-> 1520\u001b[0m     \u001b[38;5;28;01mreturn\u001b[39;00m \u001b[43mforward_call\u001b[49m\u001b[43m(\u001b[49m\u001b[38;5;241;43m*\u001b[39;49m\u001b[43margs\u001b[49m\u001b[43m,\u001b[49m\u001b[43m \u001b[49m\u001b[38;5;241;43m*\u001b[39;49m\u001b[38;5;241;43m*\u001b[39;49m\u001b[43mkwargs\u001b[49m\u001b[43m)\u001b[49m\n\u001b[0;32m   1522\u001b[0m \u001b[38;5;28;01mtry\u001b[39;00m:\n\u001b[0;32m   1523\u001b[0m     result \u001b[38;5;241m=\u001b[39m \u001b[38;5;28;01mNone\u001b[39;00m\n",
      "File \u001b[1;32m~\\anaconda3\\envs\\ml\\lib\\site-packages\\torch\\nn\\modules\\linear.py:116\u001b[0m, in \u001b[0;36mLinear.forward\u001b[1;34m(self, input)\u001b[0m\n\u001b[0;32m    115\u001b[0m \u001b[38;5;28;01mdef\u001b[39;00m \u001b[38;5;21mforward\u001b[39m(\u001b[38;5;28mself\u001b[39m, \u001b[38;5;28minput\u001b[39m: Tensor) \u001b[38;5;241m-\u001b[39m\u001b[38;5;241m>\u001b[39m Tensor:\n\u001b[1;32m--> 116\u001b[0m     \u001b[38;5;28;01mreturn\u001b[39;00m \u001b[43mF\u001b[49m\u001b[38;5;241;43m.\u001b[39;49m\u001b[43mlinear\u001b[49m\u001b[43m(\u001b[49m\u001b[38;5;28;43minput\u001b[39;49m\u001b[43m,\u001b[49m\u001b[43m \u001b[49m\u001b[38;5;28;43mself\u001b[39;49m\u001b[38;5;241;43m.\u001b[39;49m\u001b[43mweight\u001b[49m\u001b[43m,\u001b[49m\u001b[43m \u001b[49m\u001b[38;5;28;43mself\u001b[39;49m\u001b[38;5;241;43m.\u001b[39;49m\u001b[43mbias\u001b[49m\u001b[43m)\u001b[49m\n",
      "\u001b[1;31mRuntimeError\u001b[0m: mat1 and mat2 shapes cannot be multiplied (3584x28 and 784x10)"
     ]
    }
   ],
   "source": [
    "for images, labels in train_loader:\n",
    "    print(labels)\n",
    "    print(images.shape)\n",
    "    outputs = model(images)\n",
    "    break"
   ]
  },
  {
   "cell_type": "code",
   "execution_count": 15,
   "id": "c09823f9-eac7-4464-95c6-5d95b4ba9f29",
   "metadata": {},
   "outputs": [
    {
     "name": "stdout",
     "output_type": "stream",
     "text": [
      "torch.Size([10, 784]) torch.Size([10])\n"
     ]
    },
    {
     "data": {
      "text/plain": [
       "[Parameter containing:\n",
       " tensor([[-0.0262, -0.0218,  0.0045,  ..., -0.0262, -0.0220,  0.0054],\n",
       "         [ 0.0018,  0.0246,  0.0350,  ...,  0.0060,  0.0062, -0.0151],\n",
       "         [ 0.0071, -0.0296, -0.0175,  ..., -0.0340, -0.0005, -0.0168],\n",
       "         ...,\n",
       "         [ 0.0175, -0.0272,  0.0337,  ...,  0.0201,  0.0089, -0.0300],\n",
       "         [ 0.0159, -0.0189,  0.0043,  ...,  0.0123,  0.0057,  0.0164],\n",
       "         [ 0.0266, -0.0142,  0.0314,  ..., -0.0124,  0.0049, -0.0329]],\n",
       "        requires_grad=True),\n",
       " Parameter containing:\n",
       " tensor([-0.0183,  0.0021,  0.0149, -0.0112, -0.0068, -0.0029, -0.0185,  0.0344,\n",
       "          0.0310,  0.0010], requires_grad=True)]"
      ]
     },
     "execution_count": 15,
     "metadata": {},
     "output_type": "execute_result"
    }
   ],
   "source": [
    "class MnistModel(nn.Module):\n",
    "    def __init__(self):\n",
    "        super().__init__()\n",
    "        self.linear = nn.Linear(input_size, num_classes)\n",
    "        \n",
    "    def forward(self, xb): # Shape of xb is expected to be (batch_size, shape)\n",
    "        xb = xb.reshape(-1, 784)\n",
    "        print(xb)\n",
    "        out = self.linear(xb)\n",
    "        print(out)\n",
    "        return(out)\n",
    "\n",
    "model = MnistModel()\n",
    "print(model.linear.weight.shape, model.linear.bias.shape)\n",
    "list(model.parameters())"
   ]
  },
  {
   "cell_type": "code",
   "execution_count": 16,
   "id": "060f66a1-5f41-492c-9871-00726e2ba2e2",
   "metadata": {},
   "outputs": [
    {
     "name": "stdout",
     "output_type": "stream",
     "text": [
      "tensor([[0., 0., 0.,  ..., 0., 0., 0.],\n",
      "        [0., 0., 0.,  ..., 0., 0., 0.],\n",
      "        [0., 0., 0.,  ..., 0., 0., 0.],\n",
      "        ...,\n",
      "        [0., 0., 0.,  ..., 0., 0., 0.],\n",
      "        [0., 0., 0.,  ..., 0., 0., 0.],\n",
      "        [0., 0., 0.,  ..., 0., 0., 0.]])\n",
      "tensor([[-0.3281, -0.1695,  0.0610,  ..., -0.0097,  0.0160, -0.1084],\n",
      "        [-0.0485, -0.1261, -0.1175,  ..., -0.0636, -0.1274, -0.0177],\n",
      "        [ 0.1713, -0.2009,  0.1093,  ..., -0.0641,  0.0115,  0.2335],\n",
      "        ...,\n",
      "        [ 0.1367, -0.1461, -0.2041,  ...,  0.0402,  0.1414,  0.0573],\n",
      "        [ 0.0201, -0.0689,  0.0294,  ..., -0.1718,  0.0780,  0.1033],\n",
      "        [ 0.0584,  0.0411, -0.1100,  ..., -0.0536, -0.0994, -0.0640]],\n",
      "       grad_fn=<AddmmBackward0>)\n"
     ]
    }
   ],
   "source": [
    "for images, labels in train_loader:\n",
    "    outputs = model(images)\n",
    "    break"
   ]
  },
  {
   "cell_type": "code",
   "execution_count": 17,
   "id": "a2c9ed15-8bcf-403a-a9b0-48c4ad7ee477",
   "metadata": {},
   "outputs": [
    {
     "name": "stdout",
     "output_type": "stream",
     "text": [
      "Sample probabilities:\n",
      " tensor([[0.0729, 0.0854, 0.1076, 0.1179, 0.0996, 0.1237, 0.0988, 0.1003, 0.1029,\n",
      "         0.0908],\n",
      "        [0.0997, 0.0922, 0.0930, 0.1067, 0.1072, 0.0928, 0.1153, 0.0982, 0.0921,\n",
      "         0.1028]])\n",
      "\n",
      "\n",
      "Sum:  1.0\n",
      "\n",
      "\n",
      "tensor([5, 6, 9, 7, 7, 2, 0, 6, 3, 0, 8, 8, 4, 8, 4, 7, 6, 6, 2, 7, 5, 6, 3, 6,\n",
      "        4, 6, 6, 6, 7, 6, 4, 3, 7, 7, 6, 7, 5, 8, 6, 0, 2, 6, 6, 8, 6, 6, 6, 4,\n",
      "        0, 9, 3, 6, 6, 8, 6, 6, 0, 0, 7, 2, 2, 2, 4, 0, 0, 6, 0, 0, 0, 0, 6, 7,\n",
      "        0, 0, 4, 4, 0, 2, 5, 4, 5, 0, 0, 4, 8, 6, 8, 9, 2, 3, 6, 0, 3, 3, 7, 0,\n",
      "        6, 0, 5, 0, 0, 8, 3, 9, 0, 9, 0, 5, 6, 6, 6, 0, 4, 3, 6, 6, 2, 6, 0, 7,\n",
      "        6, 4, 3, 0, 6, 8, 9, 3])\n",
      "\n",
      "\n",
      "tensor([0.1237, 0.1153, 0.1220, 0.1236, 0.1276, 0.1228, 0.1254, 0.1311, 0.1227,\n",
      "        0.1230, 0.1130, 0.1204, 0.1228, 0.1202, 0.1285, 0.1174, 0.1165, 0.1646,\n",
      "        0.1234, 0.1198, 0.1426, 0.1148, 0.1174, 0.1493, 0.1102, 0.1244, 0.1345,\n",
      "        0.1349, 0.1164, 0.1234, 0.1169, 0.1501, 0.1197, 0.1293, 0.1240, 0.1549,\n",
      "        0.1319, 0.1483, 0.1194, 0.1259, 0.1174, 0.1409, 0.1219, 0.1281, 0.1231,\n",
      "        0.1145, 0.1162, 0.1156, 0.1359, 0.1279, 0.1216, 0.1348, 0.1276, 0.1169,\n",
      "        0.1233, 0.1393, 0.1348, 0.1228, 0.1583, 0.1141, 0.1147, 0.1104, 0.1254,\n",
      "        0.1362, 0.1324, 0.1246, 0.1325, 0.1248, 0.1079, 0.1194, 0.1250, 0.1319,\n",
      "        0.1303, 0.1377, 0.1254, 0.1303, 0.1494, 0.1297, 0.1197, 0.1260, 0.1271,\n",
      "        0.1249, 0.1164, 0.1216, 0.1268, 0.1144, 0.1453, 0.1358, 0.1204, 0.1077,\n",
      "        0.1287, 0.1387, 0.1250, 0.1328, 0.1308, 0.1149, 0.1595, 0.1337, 0.1275,\n",
      "        0.1323, 0.1192, 0.1216, 0.1218, 0.1270, 0.1353, 0.1296, 0.1580, 0.1455,\n",
      "        0.1344, 0.1213, 0.1213, 0.1312, 0.1251, 0.1408, 0.1454, 0.1217, 0.1271,\n",
      "        0.1210, 0.1539, 0.1383, 0.1117, 0.1250, 0.1213, 0.1339, 0.1483, 0.1216,\n",
      "        0.1124, 0.1087], grad_fn=<MaxBackward0>)\n"
     ]
    }
   ],
   "source": [
    "## Apply softmax for each output row\n",
    "probs = F.softmax(outputs, dim = 1)\n",
    "\n",
    "## chaecking at sample probabilities\n",
    "print(\"Sample probabilities:\\n\", probs[:2].data)\n",
    "\n",
    "print(\"\\n\")\n",
    "## Add up the probabilities of an output row\n",
    "print(\"Sum: \", torch.sum(probs[0]).item())\n",
    "max_probs, preds = torch.max(probs, dim = 1)\n",
    "print(\"\\n\")\n",
    "print(preds)\n",
    "print(\"\\n\")\n",
    "print(max_probs)"
   ]
  },
  {
   "cell_type": "code",
   "execution_count": 18,
   "id": "efeb8a3e-8899-43b1-a323-37a6f26dbaed",
   "metadata": {},
   "outputs": [
    {
     "name": "stdout",
     "output_type": "stream",
     "text": [
      "Accuracy:  tensor(0.0703)\n",
      "\n",
      "\n",
      "Loss Function:  <function cross_entropy at 0x00000216ABF9FC10>\n",
      "\n",
      "\n",
      "tensor(2.3255, grad_fn=<NllLossBackward0>)\n"
     ]
    }
   ],
   "source": [
    "def accuracy(outputs, labels):\n",
    "    _, preds = torch.max(outputs, dim = 1)\n",
    "    return(torch.tensor(torch.sum(preds == labels).item()/ len(preds)))\n",
    "\n",
    "print(\"Accuracy: \",accuracy(outputs, labels))\n",
    "print(\"\\n\")\n",
    "loss_fn = F.cross_entropy\n",
    "print(\"Loss Function: \",loss_fn)\n",
    "print(\"\\n\")\n",
    "## Loss for the current batch\n",
    "loss = loss_fn(outputs, labels)\n",
    "print(loss)"
   ]
  },
  {
   "cell_type": "code",
   "execution_count": 19,
   "id": "33dd8e00-56c0-4c97-bf62-72bb5dea9d49",
   "metadata": {},
   "outputs": [],
   "source": [
    "class MnistModel(nn.Module):\n",
    "    def __init__(self):\n",
    "        super().__init__()\n",
    "        self.linear = nn.Linear(input_size, num_classes)\n",
    "    \n",
    "    def forward(self, xb):\n",
    "        xb = xb.reshape(-1, 784)\n",
    "        out = self.linear(xb)\n",
    "        return(out)\n",
    "    \n",
    "    def training_step(self, batch):\n",
    "        images, labels = batch\n",
    "        out = self(images) ## Generate predictions\n",
    "        loss = F.cross_entropy(out, labels) ## Calculate the loss\n",
    "        return(loss)\n",
    "    \n",
    "    def validation_step(self, batch):\n",
    "        images, labels = batch\n",
    "        out = self(images)\n",
    "        loss = F.cross_entropy(out, labels)\n",
    "        acc = accuracy(out, labels)\n",
    "        return({'val_loss':loss, 'val_acc': acc})\n",
    "    \n",
    "    def validation_epoch_end(self, outputs):\n",
    "        batch_losses = [x['val_loss'] for x in outputs]\n",
    "        epoch_loss = torch.stack(batch_losses).mean()\n",
    "        batch_accs = [x['val_acc'] for x in outputs]\n",
    "        epoch_acc = torch.stack(batch_accs).mean()\n",
    "        return({'val_loss': epoch_loss.item(), 'val_acc' : epoch_acc.item()})\n",
    "    \n",
    "    def epoch_end(self, epoch,result):\n",
    "        print(\"Epoch [{}], val_loss: {:.4f}, val_acc: {:.4f}\".format(epoch, result['val_loss'], result['val_acc']))\n",
    "        \n",
    "    \n",
    "model = MnistModel()"
   ]
  },
  {
   "cell_type": "code",
   "execution_count": 20,
   "id": "412ffe68-9219-4712-94bb-77b2f42b880c",
   "metadata": {},
   "outputs": [],
   "source": [
    "def evaluate(model, val_loader):\n",
    "    outputs = [model.validation_step(batch) for batch in val_loader]\n",
    "    return(model.validation_epoch_end(outputs))\n",
    "\n",
    "def fit(epochs, lr, model, train_loader, val_loader, opt_func = torch.optim.SGD):\n",
    "    history = []\n",
    "    optimizer = opt_func(model.parameters(), lr)\n",
    "    for epoch in range(epochs):\n",
    "        \n",
    "        ## Training Phas\n",
    "        for batch in train_loader:\n",
    "            loss = model.training_step(batch)\n",
    "            loss.backward()\n",
    "            optimizer.step()\n",
    "            optimizer.zero_grad()\n",
    "        \n",
    "        ## Validation phase\n",
    "        result = evaluate(model, val_loader)\n",
    "        model.epoch_end(epoch, result)\n",
    "        history.append(result)\n",
    "    return(history)"
   ]
  },
  {
   "cell_type": "code",
   "execution_count": 21,
   "id": "d590c688-30c7-4162-990b-88d9660abba1",
   "metadata": {},
   "outputs": [
    {
     "data": {
      "text/plain": [
       "{'val_loss': 2.319340467453003, 'val_acc': 0.11026503145694733}"
      ]
     },
     "execution_count": 21,
     "metadata": {},
     "output_type": "execute_result"
    }
   ],
   "source": [
    "result0 = evaluate(model, val_loader)\n",
    "result0"
   ]
  },
  {
   "cell_type": "code",
   "execution_count": 22,
   "id": "09efce41-8ec8-46e3-bcbc-41a19a92accd",
   "metadata": {},
   "outputs": [
    {
     "name": "stdout",
     "output_type": "stream",
     "text": [
      "Epoch [0], val_loss: 1.9542, val_acc: 0.6169\n",
      "Epoch [1], val_loss: 1.6853, val_acc: 0.7368\n",
      "Epoch [2], val_loss: 1.4843, val_acc: 0.7742\n",
      "Epoch [3], val_loss: 1.3324, val_acc: 0.7925\n",
      "Epoch [4], val_loss: 1.2155, val_acc: 0.8054\n"
     ]
    }
   ],
   "source": [
    "history1 = fit(5, 0.001, model, train_loader, val_loader)"
   ]
  },
  {
   "cell_type": "code",
   "execution_count": null,
   "id": "2e04ccd8-4c11-47a9-81a6-19d9c40fe7cf",
   "metadata": {},
   "outputs": [
    {
     "name": "stdout",
     "output_type": "stream",
     "text": [
      "Epoch [0], val_loss: 1.1236, val_acc: 0.8153\n",
      "Epoch [1], val_loss: 1.0498, val_acc: 0.8214\n",
      "Epoch [2], val_loss: 0.9894, val_acc: 0.8260\n",
      "Epoch [3], val_loss: 0.9391, val_acc: 0.8295\n",
      "Epoch [4], val_loss: 0.8967, val_acc: 0.8325\n",
      "Epoch [0], val_loss: 0.8603, val_acc: 0.8353\n",
      "Epoch [1], val_loss: 0.8288, val_acc: 0.8374\n",
      "Epoch [2], val_loss: 0.8012, val_acc: 0.8407\n"
     ]
    }
   ],
   "source": [
    "history2 = fit(5, 0.001, model, train_loader, val_loader)\n",
    "history3 = fit(5, 0.001, model, train_loader, val_loader)\n",
    "history4 = fit(5, 0.001, model, train_loader, val_loader)"
   ]
  },
  {
   "cell_type": "code",
   "execution_count": null,
   "id": "d2faf775-e4da-4e81-aec4-93c28166df26",
   "metadata": {},
   "outputs": [],
   "source": [
    "## Replace these values with your result\n",
    "history = [result0] + history1 + history2 + history3 + history4\n",
    "accuracies = [result['val_acc'] for result in history]\n",
    "plt.plot(accuracies, '-x')\n",
    "plt.xlabel('epoch')\n",
    "plt.ylabel('accuracy')\n",
    "plt.title('Accuracy Vs. No. of epochs')"
   ]
  },
  {
   "cell_type": "code",
   "execution_count": null,
   "id": "73c57713-2fea-45ad-9ed7-920fdba8957f",
   "metadata": {},
   "outputs": [],
   "source": [
    "## Define the test dataset\n",
    "test_dataset = MNIST(root = 'data/', train = False, transform = transforms.ToTensor())\n",
    "img, label = test_dataset[0]\n",
    "plt.imshow(img[0], cmap = 'gray')\n",
    "print(\"shape: \", img.shape)\n",
    "print('Label: ', label)"
   ]
  },
  {
   "cell_type": "code",
   "execution_count": 31,
   "id": "c2c91269-ec58-48d8-b11c-e99a655ab53f",
   "metadata": {},
   "outputs": [],
   "source": [
    "def predict_image(img, model):\n",
    "    xb = img.unsqueeze(0)\n",
    "    yb = model(xb)\n",
    "    _, preds = torch.max(yb, dim = 1)\n",
    "    return(preds[0].item())"
   ]
  },
  {
   "cell_type": "code",
   "execution_count": 32,
   "id": "a427f246-d479-4400-9d8f-ce222fad083c",
   "metadata": {},
   "outputs": [
    {
     "name": "stdout",
     "output_type": "stream",
     "text": [
      "Label: 7 , Predicted : 7\n"
     ]
    },
    {
     "data": {
      "image/png": "[encoded data removed]",
      "text/plain": [
       "<Figure size 640x480 with 1 Axes>"
      ]
     },
     "metadata": {},
     "output_type": "display_data"
    }
   ],
   "source": [
    "img, label = test_dataset[0]\n",
    "plt.imshow(img[0], cmap = 'gray')\n",
    "print('Label:', label, ', Predicted :', predict_image(img, model))"
   ]
  },
  {
   "cell_type": "code",
   "execution_count": 33,
   "id": "eb3c9089-062d-414a-a3c2-b95cc676120a",
   "metadata": {},
   "outputs": [
    {
     "data": {
      "text/plain": [
       "{'val_loss': 0.6426597833633423, 'val_acc': 0.861621081829071}"
      ]
     },
     "execution_count": 33,
     "metadata": {},
     "output_type": "execute_result"
    }
   ],
   "source": [
    "test_loader = DataLoader(test_dataset, batch_size = 256)\n",
    "result = evaluate(model, test_loader)\n",
    "result"
   ]
  },
  {
   "cell_type": "code",
   "execution_count": 34,
   "id": "05261649-8c0f-4414-84e4-c9d771841d93",
   "metadata": {},
   "outputs": [],
   "source": [
    "torch.save(model.state_dict(), 'mnist-logistic.pth')"
   ]
  },
  {
   "cell_type": "code",
   "execution_count": 35,
   "id": "525a43a1-aaef-4412-a286-af27e2a2c130",
   "metadata": {},
   "outputs": [
    {
     "data": {
      "text/plain": [
       "{'val_loss': 0.6426597833633423, 'val_acc': 0.861621081829071}"
      ]
     },
     "execution_count": 35,
     "metadata": {},
     "output_type": "execute_result"
    }
   ],
   "source": [
    "model2 = MnistModel()\n",
    "model2.load_state_dict(torch.load('mnist-logistic.pth'))\n",
    "model2.state_dict()\n",
    "test_loader = DataLoader(test_dataset, batch_size = 256)\n",
    "result = evaluate(model2, test_loader)\n",
    "result"
   ]
  },
  {
   "cell_type": "code",
   "execution_count": null,
   "id": "c9b08a4d-8ed9-4823-a9d0-253ae311a8ab",
   "metadata": {},
   "outputs": [],
   "source": []
  }
 ],
 "metadata": {
  "kernelspec": {
   "display_name": "Python 3 (ipykernel)",
   "language": "python",
   "name": "python3"
  },
  "language_info": {
   "codemirror_mode": {
    "name": "ipython",
    "version": 3
   },
   "file_extension": ".py",
   "mimetype": "text/x-python",
   "name": "python",
   "nbconvert_exporter": "python",
   "pygments_lexer": "ipython3",
   "version": "3.8.18"
  }
 },
 "nbformat": 4,
 "nbformat_minor": 5
}
